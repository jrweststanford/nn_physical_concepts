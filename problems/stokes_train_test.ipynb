{
 "cells": [
  {
   "cell_type": "markdown",
   "metadata": {},
   "source": [
    "### Imports"
   ]
  },
  {
   "cell_type": "code",
   "execution_count": 1,
   "metadata": {},
   "outputs": [],
   "source": [
    "# Scinet modules\n",
    "from scinet import *\n",
    "\n",
    "# My custom modules\n",
    "import scinet.ed_stokes as sto\n",
    "\n",
    "#Other modules\n",
    "import datetime\n",
    "import matplotlib.pyplot as plt\n",
    "from mpl_toolkits.mplot3d import Axes3D\n",
    "from matplotlib import cm\n",
    "import numpy as np\n",
    "\n",
    "%load_ext tensorboard\n",
    "import tensorflow as tf\n",
    "import datetime, os\n",
    "\n",
    "import tensorflow as tf\n",
    "from tensorflow.keras.callbacks import TensorBoard"
   ]
  },
  {
   "cell_type": "markdown",
   "metadata": {},
   "source": [
    "### Helper Functions (based on oscillator example)"
   ]
  },
  {
   "cell_type": "code",
   "execution_count": 2,
   "metadata": {},
   "outputs": [],
   "source": [
    "def gen_input_stokes(Fr, St, t_observ, tt_predicted):\n",
    "    in1 = np.array([sto.stokes_eqn(Fr, St, t_observ) for _ in tt_predicted])\n",
    "    in2 = np.reshape(tt_predicted, (-1, 1))\n",
    "    out = in2 #dummy filler\n",
    "    return [in1, in2, out]\n",
    "\n",
    "def stokes_representation_plot(net, Fr_range, St_range, t_observ, step_num=100, eval_time=1.5):\n",
    "    Fr_vec = np.linspace(*Fr_range, num=step_num)\n",
    "    St_vec = np.linspace(*St_range, num=step_num)\n",
    "    \n",
    "    FR, ST = np.meshgrid(Fr_vec, St_vec)\n",
    "    \n",
    "    eval_time = np.array([eval_time])\n",
    "    out = np.array([net.run(gen_input_stokes(Fr, St, t_observ, eval_time), net.mu)[0] for Fr, St in zip(np.ravel(FR), np.ravel(ST))])\n",
    "    \n",
    "    fig = plt.figure(figsize=(net.latent_size*3.9, 2.1))\n",
    "    for i in range(net.latent_size):\n",
    "        zs = out[:, i]\n",
    "        ax = fig.add_subplot('1{}{}'.format(net.latent_size, i + 1), projection='3d')\n",
    "        Z = np.reshape(zs, FR.shape)\n",
    "        surf = ax.plot_surface(FR, ST, Z, rstride=1, cstride=1, cmap=cm.inferno, linewidth=0)\n",
    "        ax.set_xlabel(r'$Fr$')\n",
    "        ax.set_ylabel(r'$St$')\n",
    "        ax.set_zlabel('Latent activation {}'.format(i + 1))\n",
    "        if (i==2):\n",
    "            ax.set_zlim(-1,1) #Fix the scale for the third plot, where the activation is close to zero\n",
    "        ax.set_zticks([-1,-0.5,0,0.5,1])\n",
    "    fig.tight_layout()\n",
    "    return fig\n",
    "\n",
    "def plot_stokes_prediction(net_, Fr_, St_, t_observ, t_predict):    \n",
    "    x_correct = sto.stokes_eqn(Fr, St, t_predict)\n",
    "    x_predict = net.run(gen_input_stokes(Fr_, St_, t_observ, t_predict), net.output).ravel()\n",
    "    fig = plt.figure(figsize=(7, 4))\n",
    "    ax = fig.add_subplot(111)\n",
    "    ax.plot(t_predict, x_correct, color=orange_color, label='True time evolution')\n",
    "    ax.plot(t_predict, x_predict, '--', color=blue_color, label='Predicted time evolution')\n",
    "    ax.set_xlabel(r'$t$ [$s$]')\n",
    "    ax.set_ylabel(r'$x$ [$m$]')\n",
    "    handles, labels = ax.get_legend_handles_labels()\n",
    "    lgd=ax.legend(handles, labels,loc='upper left', bbox_to_anchor=(0.6, 1.3), shadow=True, ncol=1)\n",
    "    fig.tight_layout()\n",
    "    return fig"
   ]
  },
  {
   "cell_type": "code",
   "execution_count": 3,
   "metadata": {},
   "outputs": [],
   "source": [
    "blue_color='#000cff'\n",
    "orange_color='#ff7700'"
   ]
  },
  {
   "cell_type": "markdown",
   "metadata": {},
   "source": [
    "### Input Variables"
   ]
  },
  {
   "cell_type": "code",
   "execution_count": 4,
   "metadata": {},
   "outputs": [],
   "source": [
    "netName = 'StokesNet'\n",
    "observation_size = 50\n",
    "latent_size = 3\n",
    "question_size = 1\n",
    "answer_size = 1\n",
    "dev_percent = 5\n",
    "num_examples = 200000\n",
    "\n",
    "encoder_layout = [500,100]\n",
    "decoder_layout = [100,100]\n",
    "\n",
    "t_sim = np.linspace(0,1,observation_size)\n",
    "t_q = 2.0"
   ]
  },
  {
   "cell_type": "markdown",
   "metadata": {},
   "source": [
    "### Data creation and loading"
   ]
  },
  {
   "cell_type": "code",
   "execution_count": 5,
   "metadata": {},
   "outputs": [],
   "source": [
    "sto.stokes_data(num_examples, t_sample=t_sim, fileName='stokes_example');\n"
   ]
  },
  {
   "cell_type": "code",
   "execution_count": 6,
   "metadata": {},
   "outputs": [],
   "source": [
    "td, vd, ts, vs, proj = dl.load(dev_percent, 'stokes_example')"
   ]
  },
  {
   "cell_type": "markdown",
   "metadata": {},
   "source": [
    "### Create and train neural network"
   ]
  },
  {
   "cell_type": "code",
   "execution_count": 7,
   "metadata": {},
   "outputs": [
    {
     "name": "stdout",
     "output_type": "stream",
     "text": [
      "WARNING:tensorflow:From /home/jrwest/Courses/Winter_2021/CS230/project/nn_physical_concepts_cs230/scinet/model.py:165: The name tf.placeholder is deprecated. Please use tf.compat.v1.placeholder instead.\n",
      "\n",
      "WARNING:tensorflow:From /home/jrwest/Courses/Winter_2021/CS230/project/nn_physical_concepts_cs230/scinet/model.py:175: The name tf.variable_scope is deprecated. Please use tf.compat.v1.variable_scope instead.\n",
      "\n",
      "WARNING:tensorflow:From /home/jrwest/Courses/Winter_2021/CS230/project/nn_physical_concepts_cs230/scinet/model.py:182: The name tf.get_variable is deprecated. Please use tf.compat.v1.get_variable instead.\n",
      "\n",
      "WARNING:tensorflow:From /home/jrwest/Courses/Winter_2021/CS230/project/nn_physical_concepts_cs230/scinet/model.py:299: The name tf.summary.histogram is deprecated. Please use tf.compat.v1.summary.histogram instead.\n",
      "\n",
      "WARNING:tensorflow:From /home/jrwest/Courses/Winter_2021/CS230/project/nn_physical_concepts_cs230/scinet/model.py:319: The name tf.log is deprecated. Please use tf.math.log instead.\n",
      "\n",
      "WARNING:tensorflow:From /home/jrwest/Courses/Winter_2021/CS230/project/nn_physical_concepts_cs230/scinet/model.py:215: The name tf.squared_difference is deprecated. Please use tf.math.squared_difference instead.\n",
      "\n",
      "WARNING:tensorflow:From /home/jrwest/Courses/Winter_2021/CS230/project/nn_physical_concepts_cs230/scinet/model.py:223: The name tf.train.AdamOptimizer is deprecated. Please use tf.compat.v1.train.AdamOptimizer instead.\n",
      "\n",
      "WARNING:tensorflow:From /home/jrwest/miniconda3/envs/cs230_project/lib/python2.7/site-packages/tensorflow_core/python/ops/math_grad.py:1375: where (from tensorflow.python.ops.array_ops) is deprecated and will be removed in a future version.\n",
      "Instructions for updating:\n",
      "Use tf.where in 2.0, which has the same broadcast rule as np.where\n",
      "WARNING:tensorflow:From /home/jrwest/Courses/Winter_2021/CS230/project/nn_physical_concepts_cs230/scinet/model.py:234: The name tf.summary.scalar is deprecated. Please use tf.compat.v1.summary.scalar instead.\n",
      "\n",
      "WARNING:tensorflow:From /home/jrwest/Courses/Winter_2021/CS230/project/nn_physical_concepts_cs230/scinet/model.py:239: The name tf.summary.FileWriter is deprecated. Please use tf.compat.v1.summary.FileWriter instead.\n",
      "\n",
      "WARNING:tensorflow:From /home/jrwest/Courses/Winter_2021/CS230/project/nn_physical_concepts_cs230/scinet/model.py:241: The name tf.summary.merge_all is deprecated. Please use tf.compat.v1.summary.merge_all instead.\n",
      "\n",
      "WARNING:tensorflow:From /home/jrwest/Courses/Winter_2021/CS230/project/nn_physical_concepts_cs230/scinet/model.py:51: The name tf.Session is deprecated. Please use tf.compat.v1.Session instead.\n",
      "\n",
      "WARNING:tensorflow:From /home/jrwest/Courses/Winter_2021/CS230/project/nn_physical_concepts_cs230/scinet/model.py:307: The name tf.global_variables is deprecated. Please use tf.compat.v1.global_variables instead.\n",
      "\n",
      "WARNING:tensorflow:From /home/jrwest/Courses/Winter_2021/CS230/project/nn_physical_concepts_cs230/scinet/model.py:308: The name tf.is_variable_initialized is deprecated. Please use tf.compat.v1.is_variable_initialized instead.\n",
      "\n",
      "WARNING:tensorflow:From /home/jrwest/Courses/Winter_2021/CS230/project/nn_physical_concepts_cs230/scinet/model.py:312: The name tf.variables_initializer is deprecated. Please use tf.compat.v1.variables_initializer instead.\n",
      "\n"
     ]
    }
   ],
   "source": [
    "# Create network object\n",
    "net = nn.Network(observation_size, latent_size, question_size, answer_size, \n",
    "                 encoder_num_units=encoder_layout, decoder_num_units=decoder_layout,\n",
    "                 name=netName) "
   ]
  },
  {
   "cell_type": "code",
   "execution_count": 8,
   "metadata": {},
   "outputs": [
    {
     "name": "stdout",
     "output_type": "stream",
     "text": [
      "3.934225\n",
      "2.8118732\n"
     ]
    }
   ],
   "source": [
    "# Print initial reconstruction loss (depends on initialization)\n",
    "print(net.run(vd, net.recon_loss)) #default\n",
    "print(net.run(vd, net.kl_loss))"
   ]
  },
  {
   "cell_type": "code",
   "execution_count": 9,
   "metadata": {
    "scrolled": true
   },
   "outputs": [
    {
     "name": "stdout",
     "output_type": "stream",
     "text": [
      "The tensorboard extension is already loaded. To reload it, use:\n",
      "  %reload_ext tensorboard\n"
     ]
    },
    {
     "data": {
      "text/html": [
       "\n",
       "      <iframe id=\"tensorboard-frame-76a0cbbe0491bfe5\" width=\"100%\" height=\"800\" frameborder=\"0\">\n",
       "      </iframe>\n",
       "      <script>\n",
       "        (function() {\n",
       "          const frame = document.getElementById(\"tensorboard-frame-76a0cbbe0491bfe5\");\n",
       "          const url = new URL(\"/\", window.location);\n",
       "          url.port = 6006;\n",
       "          frame.src = url;\n",
       "        })();\n",
       "      </script>\n",
       "  "
      ],
      "text/plain": [
       "<IPython.core.display.HTML object>"
      ]
     },
     "metadata": {},
     "output_type": "display_data"
    }
   ],
   "source": [
    "log_path = os.path.join(io.tf_log_path, netName)\n",
    "%load_ext tensorboard\n",
    "%tensorboard --logdir /home/jrwest/Courses/Winter_2021/CS230/project/nn_physical_concepts_cs230/tf_log/StokesNet"
   ]
  },
  {
   "cell_type": "code",
   "execution_count": null,
   "metadata": {},
   "outputs": [
    {
     "data": {
      "application/vnd.jupyter.widget-view+json": {
       "model_id": "7948de90990a481c9df81ed5f17a8438",
       "version_major": 2,
       "version_minor": 0
      },
      "text/plain": [
       "  0%|          | 0/200 [00:00<?, ?it/s]"
      ]
     },
     "metadata": {},
     "output_type": "display_data"
    },
    {
     "name": "stdout",
     "output_type": "stream",
     "text": [
      "0.00045688223\n",
      "4.9359593\n"
     ]
    },
    {
     "data": {
      "application/vnd.jupyter.widget-view+json": {
       "model_id": "87055e340f824fe88f66c8cbede58f96",
       "version_major": 2,
       "version_minor": 0
      },
      "text/plain": [
       "  0%|          | 0/200 [00:00<?, ?it/s]"
      ]
     },
     "metadata": {},
     "output_type": "display_data"
    }
   ],
   "source": [
    "# Train\n",
    "num_epochs = 1000\n",
    "print_frequency = 0.2\n",
    "\n",
    "check_epochs = int(print_frequency * num_epochs)\n",
    "num_loops = int(num_epochs/check_epochs)\n",
    "\n",
    "for i in range(num_loops):\n",
    "    net.train(check_epochs, 512, 0.001, td, vd, beta_fun=(lambda x: 0.001), test_step=10 )\n",
    "    # Check progress. It is recommended to use Tensorboard instead for this.\n",
    "    print(net.run(vd, net.recon_loss)) #default\n",
    "    print(net.run(vd, net.kl_loss))"
   ]
  },
  {
   "cell_type": "code",
   "execution_count": null,
   "metadata": {},
   "outputs": [],
   "source": [
    "# Check progress. It is recommended to use Tensorboard instead for this.\n",
    "print(net.run(vd, net.recon_loss)) #default\n",
    "print(net.run(vd, net.kl_loss))"
   ]
  },
  {
   "cell_type": "code",
   "execution_count": null,
   "metadata": {},
   "outputs": [],
   "source": [
    "# Plot prediction\n",
    "%matplotlib tk\n",
    "Fr = 1.0\n",
    "St = 3.0\n",
    "t_predict = np.linspace(0, t_q, 250)\n",
    "plot_stokes_prediction(net, Fr, St, t_sim, t_predict);"
   ]
  },
  {
   "cell_type": "code",
   "execution_count": null,
   "metadata": {},
   "outputs": [],
   "source": [
    "stokes_representation_plot(net, [-5.0,5.0], [0.1,5.0], t_sim, eval_time=1.5);"
   ]
  },
  {
   "cell_type": "code",
   "execution_count": null,
   "metadata": {},
   "outputs": [],
   "source": []
  },
  {
   "cell_type": "code",
   "execution_count": null,
   "metadata": {},
   "outputs": [],
   "source": [
    "#Choose Network Name for saving (if desired)\n",
    "date_str  = str(datetime.datetime.now().date())\n",
    "name_str  = 'stokesNet_'\n",
    "filename  = name_str + date_str\n",
    "full_path = io.tf_save_path + filename"
   ]
  },
  {
   "cell_type": "code",
   "execution_count": null,
   "metadata": {},
   "outputs": [],
   "source": [
    "#Save Network\n",
    "if os.path.isfile(full_path+'.pkl'):\n",
    "    print(\"Filename already exists. Please choose another name.\")\n",
    "else:    \n",
    "    net.save(filename)"
   ]
  },
  {
   "cell_type": "code",
   "execution_count": null,
   "metadata": {},
   "outputs": [],
   "source": []
  }
 ],
 "metadata": {
  "kernelspec": {
   "display_name": "Python 2",
   "language": "python",
   "name": "python2"
  },
  "language_info": {
   "codemirror_mode": {
    "name": "ipython",
    "version": 2
   },
   "file_extension": ".py",
   "mimetype": "text/x-python",
   "name": "python",
   "nbconvert_exporter": "python",
   "pygments_lexer": "ipython2",
   "version": "2.7.18"
  }
 },
 "nbformat": 4,
 "nbformat_minor": 1
}
