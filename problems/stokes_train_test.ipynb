{
 "cells": [
  {
   "cell_type": "markdown",
   "metadata": {},
   "source": [
    "### Imports"
   ]
  },
  {
   "cell_type": "code",
   "execution_count": 85,
   "metadata": {},
   "outputs": [
    {
     "name": "stdout",
     "output_type": "stream",
     "text": [
      "The tensorboard extension is already loaded. To reload it, use:\n",
      "  %reload_ext tensorboard\n"
     ]
    }
   ],
   "source": [
    "# Scinet modules\n",
    "from scinet import *\n",
    "\n",
    "# My custom modules\n",
    "import scinet.ed_stokes as sto\n",
    "\n",
    "#Other modules\n",
    "import datetime\n",
    "import matplotlib.pyplot as plt\n",
    "from mpl_toolkits.mplot3d import Axes3D\n",
    "from matplotlib import cm\n",
    "import numpy as np\n",
    "import tqdm\n",
    "\n",
    "%load_ext tensorboard\n",
    "import tensorflow as tf\n",
    "import datetime, os\n",
    "\n",
    "import tensorflow as tf\n",
    "from tensorflow.keras.callbacks import TensorBoard"
   ]
  },
  {
   "cell_type": "markdown",
   "metadata": {},
   "source": [
    "### Helper Functions (based on oscillator example)"
   ]
  },
  {
   "cell_type": "code",
   "execution_count": 111,
   "metadata": {},
   "outputs": [],
   "source": [
    "def gen_input_stokes(Fr, St, t_observ, tt_predicted):\n",
    "    in1 = np.array([sto.stokes_eqn(Fr, St, t_observ) for _ in tt_predicted])\n",
    "    in2 = np.reshape(tt_predicted, (-1, 1))\n",
    "    out = in2 #dummy filler\n",
    "    return [in1, in2, out]\n",
    "\n",
    "def stokes_representation_plot(net, Fr_range, St_range, t_observ, step_num=100, eval_time=1.5):\n",
    "    Fr_vec = np.linspace(*Fr_range, num=step_num)\n",
    "    St_vec = np.linspace(*St_range, num=step_num)\n",
    "    \n",
    "    FR, ST = np.meshgrid(Fr_vec, St_vec)\n",
    "    \n",
    "    eval_time = np.array([eval_time])\n",
    "    out = np.array([net.run(gen_input_stokes(Fr, St, t_observ, eval_time), net.mu)[0] for Fr, St in zip(np.ravel(FR), np.ravel(ST))])\n",
    "    \n",
    "    fig = plt.figure(figsize=(net.latent_size*3.9, 2.1))\n",
    "    for i in range(net.latent_size):\n",
    "        zs = out[:, i]\n",
    "        ax = fig.add_subplot('1{}{}'.format(net.latent_size, i + 1), projection='3d')\n",
    "        Z = np.reshape(zs, FR.shape)\n",
    "        surf = ax.plot_surface(FR, ST, Z, rstride=1, cstride=1, cmap=cm.inferno, linewidth=0)\n",
    "        ax.set_xlabel(r'$Fr$')\n",
    "        ax.set_ylabel(r'$St$')\n",
    "        ax.set_zlabel('Latent activation {}'.format(i + 1))\n",
    "        if (i==0):\n",
    "            ax.set_zlim(-1,1) #Fix the scale for the third plot, where the activation is close to zero\n",
    "        if (i==3):\n",
    "            ax.set_zlim(-1,1) #Fix the scale for the third plot, where the activation is close to zero        \n",
    "        ax.set_zticks([-1,-.5,0,.5,1])\n",
    "    fig.tight_layout()\n",
    "    return fig\n",
    "\n",
    "def plot_stokes_prediction(net_, Fr_, St_, t_observ, t_predict):    \n",
    "    x_correct = sto.stokes_eqn(Fr, St, t_predict)\n",
    "    x_predict = net.run(gen_input_stokes(Fr_, St_, t_observ, t_predict), net.output).ravel()\n",
    "    fig = plt.figure(figsize=(7, 4))\n",
    "    ax = fig.add_subplot(111)\n",
    "    ax.plot(t_predict, x_correct, color=orange_color, label='True time evolution')\n",
    "    ax.plot(t_predict, x_predict, '--', color=blue_color, label='Predicted time evolution')\n",
    "    ax.set_xlabel(r'$t$ [$s$]')\n",
    "    ax.set_ylabel(r'$x$ [$m$]')\n",
    "    handles, labels = ax.get_legend_handles_labels()\n",
    "    lgd=ax.legend(handles, labels,loc='upper left', bbox_to_anchor=(0.6, 1.3), shadow=True, ncol=1)\n",
    "    fig.tight_layout()\n",
    "    return fig"
   ]
  },
  {
   "cell_type": "code",
   "execution_count": 87,
   "metadata": {},
   "outputs": [],
   "source": [
    "blue_color='#000cff'\n",
    "orange_color='#ff7700'"
   ]
  },
  {
   "cell_type": "markdown",
   "metadata": {},
   "source": [
    "### Input Variables"
   ]
  },
  {
   "cell_type": "code",
   "execution_count": 88,
   "metadata": {},
   "outputs": [],
   "source": [
    "netName = 'StokesNet'\n",
    "observation_size = 50\n",
    "latent_size = 4\n",
    "question_size = 1\n",
    "answer_size = 1\n",
    "dev_percent   = 5\n",
    "num_examples  = 200000\n",
    "test_examples = num_examples * dev_percent /100\n",
    "\n",
    "encoder_layout = [500,100]\n",
    "decoder_layout = [100,100]\n",
    "myBeta = 1e-3\n",
    "batch_size = 512\n",
    "learning_rate = 1e-3\n",
    "\n",
    "t_sim = np.linspace(0,1,observation_size)\n",
    "t_q   = 2.0"
   ]
  },
  {
   "cell_type": "markdown",
   "metadata": {},
   "source": [
    "### Data creation and loading"
   ]
  },
  {
   "cell_type": "code",
   "execution_count": 89,
   "metadata": {},
   "outputs": [],
   "source": [
    "sto.stokes_data(num_examples, t_sample=t_sim, fileName='stokes_example');\n"
   ]
  },
  {
   "cell_type": "code",
   "execution_count": 90,
   "metadata": {},
   "outputs": [],
   "source": [
    "td, vd, ts, vs, proj = dl.load(dev_percent, 'stokes_example')"
   ]
  },
  {
   "cell_type": "markdown",
   "metadata": {},
   "source": [
    "### Create and train neural network"
   ]
  },
  {
   "cell_type": "code",
   "execution_count": 99,
   "metadata": {},
   "outputs": [],
   "source": [
    "# Create network object\n",
    "net = nn.Network(observation_size, latent_size, question_size, answer_size, \n",
    "                 encoder_num_units=encoder_layout, decoder_num_units=decoder_layout,\n",
    "                 name=netName) "
   ]
  },
  {
   "cell_type": "code",
   "execution_count": 100,
   "metadata": {},
   "outputs": [
    {
     "name": "stdout",
     "output_type": "stream",
     "text": [
      "3.7854733\n",
      "8.892088\n"
     ]
    }
   ],
   "source": [
    "# Print initial reconstruction loss (depends on  initialization)\n",
    "print(net.run(vd, net.recon_loss)) #default\n",
    "print(net.run(vd, net.kl_loss))"
   ]
  },
  {
   "cell_type": "code",
   "execution_count": 101,
   "metadata": {},
   "outputs": [],
   "source": [
    "train_losses = []\n",
    "dev_losses = []\n",
    "\n",
    "#Training program\n",
    "#procedure summary: 1000 epochs with alpha 1e-3, batch 512; 500 epochs with alpha 1e-4 batch 1024, 500 epochs with alpha 1e-5 batch 1024\n",
    "num_phases = 3\n",
    "all_epochs         = [1000, 500,  500 ]\n",
    "all_batches        = [512,  1024, 1024]\n",
    "all_learning_rates = [1e-3, 1e-4, 1e-5]"
   ]
  },
  {
   "cell_type": "code",
   "execution_count": 102,
   "metadata": {},
   "outputs": [
    {
     "name": "stderr",
     "output_type": "stream",
     "text": [
      "/home/jrwest/miniconda3/envs/cs230_project/lib/python2.7/site-packages/ipykernel_launcher.py:4: TqdmDeprecationWarning: This function will be removed in tqdm==5.0.0\n",
      "Please use `tqdm.notebook.tqdm` instead of `tqdm.tqdm_notebook`\n",
      "  after removing the cwd from sys.path.\n"
     ]
    },
    {
     "data": {
      "application/vnd.jupyter.widget-view+json": {
       "model_id": "55666b5423ae4110b4fdb4c2d5a672f6",
       "version_major": 2,
       "version_minor": 0
      },
      "text/plain": [
       "  0%|          | 0/3 [00:00<?, ?it/s]"
      ]
     },
     "metadata": {},
     "output_type": "display_data"
    },
    {
     "name": "stderr",
     "output_type": "stream",
     "text": [
      "/home/jrwest/miniconda3/envs/cs230_project/lib/python2.7/site-packages/ipykernel_launcher.py:10: TqdmDeprecationWarning: This function will be removed in tqdm==5.0.0\n",
      "Please use `tqdm.notebook.tqdm` instead of `tqdm.tqdm_notebook`\n",
      "  # Remove the CWD from sys.path while we load stuff.\n"
     ]
    },
    {
     "data": {
      "application/vnd.jupyter.widget-view+json": {
       "model_id": "282e3c02a9d8457b860649618c3ef609",
       "version_major": 2,
       "version_minor": 0
      },
      "text/plain": [
       "  0%|          | 0/1000 [00:00<?, ?it/s]"
      ]
     },
     "metadata": {},
     "output_type": "display_data"
    },
    {
     "name": "stdout",
     "output_type": "stream",
     "text": [
      "Training: (loss, reconstruction error, kl loss): (5.76e-02, 3.75e-02, 2.01e+01)\n",
      "Dev:      (loss, reconstruction error, kl loss): (5.78e-02, 3.77e-02, 2.02e+01)\n",
      "=======================================\n",
      "Training: (loss, reconstruction error, kl loss): (4.79e-03, 7.42e-04, 4.04e+00)\n",
      "Dev:      (loss, reconstruction error, kl loss): (4.82e-03, 7.67e-04, 4.05e+00)\n",
      "=======================================\n",
      "Training: (loss, reconstruction error, kl loss): (4.93e-03, 8.66e-04, 4.06e+00)\n",
      "Dev:      (loss, reconstruction error, kl loss): (4.95e-03, 8.75e-04, 4.07e+00)\n",
      "=======================================\n",
      "Training: (loss, reconstruction error, kl loss): (4.58e-03, 4.49e-04, 4.14e+00)\n",
      "Dev:      (loss, reconstruction error, kl loss): (4.61e-03, 4.67e-04, 4.15e+00)\n",
      "=======================================\n",
      "Training: (loss, reconstruction error, kl loss): (4.27e-03, 1.68e-04, 4.10e+00)\n",
      "Dev:      (loss, reconstruction error, kl loss): (4.28e-03, 1.73e-04, 4.11e+00)\n",
      "=======================================\n",
      "Training: (loss, reconstruction error, kl loss): (4.19e-03, 1.26e-04, 4.07e+00)\n",
      "Dev:      (loss, reconstruction error, kl loss): (4.21e-03, 1.34e-04, 4.07e+00)\n",
      "=======================================\n",
      "Training: (loss, reconstruction error, kl loss): (4.60e-03, 5.37e-04, 4.06e+00)\n",
      "Dev:      (loss, reconstruction error, kl loss): (4.61e-03, 5.44e-04, 4.07e+00)\n",
      "=======================================\n",
      "Training: (loss, reconstruction error, kl loss): (4.34e-03, 3.00e-04, 4.04e+00)\n",
      "Dev:      (loss, reconstruction error, kl loss): (4.36e-03, 3.13e-04, 4.05e+00)\n",
      "=======================================\n",
      "Training: (loss, reconstruction error, kl loss): (4.42e-03, 4.31e-04, 3.98e+00)\n",
      "Dev:      (loss, reconstruction error, kl loss): (4.44e-03, 4.49e-04, 3.99e+00)\n",
      "=======================================\n",
      "Training: (loss, reconstruction error, kl loss): (4.24e-03, 2.23e-04, 4.02e+00)\n",
      "Dev:      (loss, reconstruction error, kl loss): (4.25e-03, 2.29e-04, 4.02e+00)\n",
      "=======================================\n",
      "1000 epochs trained so far\n"
     ]
    },
    {
     "data": {
      "application/vnd.jupyter.widget-view+json": {
       "model_id": "6845a55d43d44cebad8ac153613be05f",
       "version_major": 2,
       "version_minor": 0
      },
      "text/plain": [
       "  0%|          | 0/500 [00:00<?, ?it/s]"
      ]
     },
     "metadata": {},
     "output_type": "display_data"
    },
    {
     "name": "stdout",
     "output_type": "stream",
     "text": [
      "Training: (loss, reconstruction error, kl loss): (4.15e-03, 9.71e-05, 4.06e+00)\n",
      "Dev:      (loss, reconstruction error, kl loss): (4.17e-03, 1.03e-04, 4.06e+00)\n",
      "=======================================\n",
      "Training: (loss, reconstruction error, kl loss): (4.16e-03, 1.06e-04, 4.05e+00)\n",
      "Dev:      (loss, reconstruction error, kl loss): (4.17e-03, 1.11e-04, 4.06e+00)\n",
      "=======================================\n",
      "Training: (loss, reconstruction error, kl loss): (4.16e-03, 1.12e-04, 4.05e+00)\n",
      "Dev:      (loss, reconstruction error, kl loss): (4.18e-03, 1.19e-04, 4.06e+00)\n",
      "=======================================\n",
      "Training: (loss, reconstruction error, kl loss): (4.15e-03, 1.16e-04, 4.04e+00)\n",
      "Dev:      (loss, reconstruction error, kl loss): (4.17e-03, 1.24e-04, 4.05e+00)\n",
      "=======================================\n",
      "Training: (loss, reconstruction error, kl loss): (4.16e-03, 1.11e-04, 4.05e+00)\n",
      "Dev:      (loss, reconstruction error, kl loss): (4.18e-03, 1.17e-04, 4.06e+00)\n",
      "=======================================\n",
      "Training: (loss, reconstruction error, kl loss): (4.15e-03, 1.05e-04, 4.05e+00)\n",
      "Dev:      (loss, reconstruction error, kl loss): (4.17e-03, 1.11e-04, 4.06e+00)\n",
      "=======================================\n",
      "Training: (loss, reconstruction error, kl loss): (4.16e-03, 1.07e-04, 4.05e+00)\n",
      "Dev:      (loss, reconstruction error, kl loss): (4.18e-03, 1.13e-04, 4.06e+00)\n",
      "=======================================\n",
      "Training: (loss, reconstruction error, kl loss): (4.14e-03, 1.04e-04, 4.04e+00)\n",
      "Dev:      (loss, reconstruction error, kl loss): (4.16e-03, 1.10e-04, 4.05e+00)\n",
      "=======================================\n",
      "Training: (loss, reconstruction error, kl loss): (4.15e-03, 1.09e-04, 4.04e+00)\n",
      "Dev:      (loss, reconstruction error, kl loss): (4.16e-03, 1.15e-04, 4.05e+00)\n",
      "=======================================\n",
      "Training: (loss, reconstruction error, kl loss): (4.18e-03, 1.20e-04, 4.06e+00)\n",
      "Dev:      (loss, reconstruction error, kl loss): (4.20e-03, 1.26e-04, 4.07e+00)\n",
      "=======================================\n",
      "1500 epochs trained so far\n"
     ]
    },
    {
     "data": {
      "application/vnd.jupyter.widget-view+json": {
       "model_id": "3f34c7b29e17414d81e56a2f8e32075e",
       "version_major": 2,
       "version_minor": 0
      },
      "text/plain": [
       "  0%|          | 0/500 [00:00<?, ?it/s]"
      ]
     },
     "metadata": {},
     "output_type": "display_data"
    },
    {
     "name": "stdout",
     "output_type": "stream",
     "text": [
      "Training: (loss, reconstruction error, kl loss): (4.14e-03, 1.02e-04, 4.04e+00)\n",
      "Dev:      (loss, reconstruction error, kl loss): (4.16e-03, 1.10e-04, 4.05e+00)\n",
      "=======================================\n",
      "Training: (loss, reconstruction error, kl loss): (4.15e-03, 1.03e-04, 4.04e+00)\n",
      "Dev:      (loss, reconstruction error, kl loss): (4.16e-03, 1.09e-04, 4.05e+00)\n",
      "=======================================\n",
      "Training: (loss, reconstruction error, kl loss): (4.15e-03, 1.01e-04, 4.04e+00)\n",
      "Dev:      (loss, reconstruction error, kl loss): (4.16e-03, 1.08e-04, 4.05e+00)\n",
      "=======================================\n",
      "Training: (loss, reconstruction error, kl loss): (4.15e-03, 1.05e-04, 4.04e+00)\n",
      "Dev:      (loss, reconstruction error, kl loss): (4.16e-03, 1.11e-04, 4.05e+00)\n",
      "=======================================\n",
      "Training: (loss, reconstruction error, kl loss): (4.14e-03, 1.00e-04, 4.04e+00)\n",
      "Dev:      (loss, reconstruction error, kl loss): (4.16e-03, 1.08e-04, 4.05e+00)\n",
      "=======================================\n",
      "Training: (loss, reconstruction error, kl loss): (4.15e-03, 1.03e-04, 4.05e+00)\n",
      "Dev:      (loss, reconstruction error, kl loss): (4.17e-03, 1.10e-04, 4.06e+00)\n",
      "=======================================\n",
      "Training: (loss, reconstruction error, kl loss): (4.15e-03, 1.02e-04, 4.04e+00)\n",
      "Dev:      (loss, reconstruction error, kl loss): (4.16e-03, 1.09e-04, 4.05e+00)\n",
      "=======================================\n",
      "Training: (loss, reconstruction error, kl loss): (4.14e-03, 1.02e-04, 4.04e+00)\n",
      "Dev:      (loss, reconstruction error, kl loss): (4.16e-03, 1.08e-04, 4.05e+00)\n",
      "=======================================\n",
      "Training: (loss, reconstruction error, kl loss): (4.15e-03, 1.01e-04, 4.05e+00)\n",
      "Dev:      (loss, reconstruction error, kl loss): (4.16e-03, 1.08e-04, 4.06e+00)\n",
      "=======================================\n",
      "Training: (loss, reconstruction error, kl loss): (4.14e-03, 1.01e-04, 4.04e+00)\n",
      "Dev:      (loss, reconstruction error, kl loss): (4.16e-03, 1.09e-04, 4.05e+00)\n",
      "=======================================\n",
      "2000 epochs trained so far\n"
     ]
    }
   ],
   "source": [
    "# Train\n",
    "print_frequency = 0.1\n",
    "\n",
    "for j in tqdm.tqdm_notebook(range(num_phases)):\n",
    "    num_epochs = all_epochs[j]\n",
    "    batch_size = all_batches[j]\n",
    "    learning_rate = all_learning_rates[j]\n",
    "    check_epochs = int(print_frequency * num_epochs)\n",
    "    \n",
    "    for i in tqdm.tqdm_notebook(range(num_epochs)):\n",
    "        net.train(1, batch_size, learning_rate, td, vd, beta_fun=(lambda x: myBeta), test_step=10 )\n",
    "\n",
    "        # Check progress. It is recommended to use Tensorboard instead for this.\n",
    "        train_recon_error = net.run(td, net.recon_loss)\n",
    "        train_kl_loss     = net.run(td, net.kl_loss)\n",
    "        train_loss        = train_recon_error + myBeta*train_kl_loss\n",
    "\n",
    "        dev_recon_error   = net.run(vd, net.recon_loss)\n",
    "        dev_kl_loss       = net.run(vd, net.kl_loss)\n",
    "        dev_loss          = dev_recon_error + myBeta*dev_kl_loss\n",
    "\n",
    "        train_losses.append(train_loss)\n",
    "        dev_losses.append(dev_loss)\n",
    "\n",
    "        if i%check_epochs == 0:\n",
    "            print(\"Training: (loss, reconstruction error, kl loss): ({:.2e}, {:.2e}, {:.2e})\".format(\n",
    "            train_loss, train_recon_error, train_kl_loss))\n",
    "            print(\"Dev:      (loss, reconstruction error, kl loss): ({:.2e}, {:.2e}, {:.2e})\".format(\n",
    "            dev_loss, dev_recon_error, dev_kl_loss))\n",
    "            print(\"=======================================\")\n",
    "\n",
    "    print(\"{} epochs trained so far\".format(net.tot_epochs) )        "
   ]
  },
  {
   "cell_type": "code",
   "execution_count": 103,
   "metadata": {},
   "outputs": [],
   "source": [
    "# Plot losses\n",
    "%matplotlib tk\n",
    "plt.plot(np.array(train_losses), 'b-')\n",
    "plt.plot(np.array(dev_losses), 'r-')\n",
    "plt.xlabel('# Epochs')\n",
    "plt.legend(['training loss','dev loss'])\n",
    "plt.yscale('log')"
   ]
  },
  {
   "cell_type": "code",
   "execution_count": 106,
   "metadata": {},
   "outputs": [],
   "source": [
    "# Plot prediction\n",
    "%matplotlib tk\n",
    "Fr = 1.0\n",
    "St = 1e-2\n",
    "t_predict = np.linspace(0, t_q, 250)\n",
    "plot_stokes_prediction(net, Fr, St, t_sim, t_predict);"
   ]
  },
  {
   "cell_type": "code",
   "execution_count": 112,
   "metadata": {},
   "outputs": [],
   "source": [
    "stokes_representation_plot(net, [0.0,5.0], [0.1,5.0], t_sim, eval_time=1.5);"
   ]
  },
  {
   "cell_type": "code",
   "execution_count": 109,
   "metadata": {},
   "outputs": [],
   "source": [
    "#Choose Network Name for saving (if desired)\n",
    "date_str  = str(datetime.datetime.now().date())\n",
    "name_str  = 'stokesNet_4latent_'\n",
    "filename  = name_str + date_str\n",
    "full_path = io.tf_save_path + filename"
   ]
  },
  {
   "cell_type": "code",
   "execution_count": 110,
   "metadata": {},
   "outputs": [
    {
     "name": "stdout",
     "output_type": "stream",
     "text": [
      "Saved network to file stokesNet_4latent_2021-03-14\n"
     ]
    }
   ],
   "source": [
    "#Save Network and train_history\n",
    "if os.path.isfile(full_path+'.pkl'):\n",
    "    print(\"Filename already exists. Please choose another name.\")\n",
    "else:    \n",
    "    net.save(filename)\n",
    "    \n",
    "    with open(full_path+'.npy', 'wb') as f:\n",
    "        np.save(f, np.array(train_losses))\n",
    "        np.save(f, np.array(dev_losses))\n",
    "\n"
   ]
  },
  {
   "cell_type": "code",
   "execution_count": null,
   "metadata": {},
   "outputs": [],
   "source": []
  }
 ],
 "metadata": {
  "kernelspec": {
   "display_name": "Python 2",
   "language": "python",
   "name": "python2"
  },
  "language_info": {
   "codemirror_mode": {
    "name": "ipython",
    "version": 2
   },
   "file_extension": ".py",
   "mimetype": "text/x-python",
   "name": "python",
   "nbconvert_exporter": "python",
   "pygments_lexer": "ipython2",
   "version": "2.7.18"
  }
 },
 "nbformat": 4,
 "nbformat_minor": 1
}
