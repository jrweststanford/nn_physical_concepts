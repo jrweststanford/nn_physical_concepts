{
 "cells": [
  {
   "cell_type": "markdown",
   "metadata": {},
   "source": [
    "### Imports"
   ]
  },
  {
   "cell_type": "code",
   "execution_count": 1,
   "metadata": {},
   "outputs": [],
   "source": [
    "# Scinet modules\n",
    "from scinet import *\n",
    "\n",
    "# My custom modules\n",
    "import scinet.ed_stokes as sto\n",
    "\n",
    "#Other modules\n",
    "import datetime\n",
    "import matplotlib.pyplot as plt\n",
    "from mpl_toolkits.mplot3d import Axes3D\n",
    "from matplotlib import cm\n",
    "import numpy as np\n",
    "\n",
    "%load_ext tensorboard\n",
    "import tensorflow as tf\n",
    "import datetime, os\n"
   ]
  },
  {
   "cell_type": "markdown",
   "metadata": {},
   "source": [
    "### Helper Functions (based on oscillator example)"
   ]
  },
  {
   "cell_type": "code",
   "execution_count": 21,
   "metadata": {},
   "outputs": [],
   "source": [
    "def gen_input_stokes(Fr, St, t_observ, tt_predicted):\n",
    "    in1 = np.array([sto.stokes_eqn(Fr, St, t_observ) for _ in tt_predicted])\n",
    "    in2 = np.reshape(tt_predicted, (-1, 1))\n",
    "    out = in2 #dummy filler\n",
    "    return [in1, in2, out]\n",
    "\n",
    "def stokes_representation_plot(net, Fr_range, St_range, t_observ, step_num=100, eval_time=1.5):\n",
    "    Fr_vec = np.linspace(*Fr_range, num=step_num)\n",
    "    St_vec = np.linspace(*St_range, num=step_num)\n",
    "    \n",
    "    FR, ST = np.meshgrid(Fr_vec, St_vec)\n",
    "    \n",
    "    eval_time = np.array([eval_time])\n",
    "    out = np.array([net.run(gen_input_stokes(Fr, St, t_observ, eval_time), net.mu)[0] for Fr, St in zip(np.ravel(FR), np.ravel(ST))])\n",
    "        \n",
    "    fig = plt.figure(figsize=(net.latent_size*3.9, 2.1))\n",
    "    for i in range(net.latent_size):\n",
    "        zs = out[:, i]\n",
    "        ax = fig.add_subplot('1{}{}'.format(net.latent_size, i + 1), projection='3d')\n",
    "        Z = np.reshape(zs, FR.shape)\n",
    "        surf = ax.plot_surface(FR, ST, Z, rstride=1, cstride=1, cmap=cm.inferno, linewidth=0)\n",
    "        ax.set_xlabel(r'$Fr$')\n",
    "        ax.set_ylabel(r'$St$')\n",
    "        ax.set_zlabel('Latent activation {}'.format(i + 1))\n",
    "        if (i==2):\n",
    "            ax.set_zlim(-2,2) #Fix the scale for the third plot, where the activation is close to zero\n",
    "        ax.set_zticks([-2,-1,0,1,2])\n",
    "    fig.tight_layout()\n",
    "    return fig\n",
    "\n",
    "def plot_stokes_prediction(net_, Fr_, St_, t_observ, t_predict):    \n",
    "    x_correct = sto.stokes_eqn(Fr, St, t_predict)\n",
    "    x_predict = net.run(gen_input_stokes(Fr_, St_, t_observ, t_predict), net.output).ravel()\n",
    "    fig = plt.figure(figsize=(7, 4))\n",
    "    ax = fig.add_subplot(111)\n",
    "    ax.plot(t_predict, x_correct, color=orange_color, label='True time evolution')\n",
    "    ax.plot(t_predict, x_predict, '--', color=blue_color, label='Predicted time evolution')\n",
    "    ax.set_xlabel(r'$t$ [$s$]')\n",
    "    ax.set_ylabel(r'$x$ [$m$]')\n",
    "    handles, labels = ax.get_legend_handles_labels()\n",
    "    lgd=ax.legend(handles, labels,loc='upper left', bbox_to_anchor=(0.6, 1.3), shadow=True, ncol=1)\n",
    "    fig.tight_layout()\n",
    "    return fig"
   ]
  },
  {
   "cell_type": "code",
   "execution_count": 15,
   "metadata": {},
   "outputs": [],
   "source": [
    "blue_color='#000cff'\n",
    "orange_color='#ff7700'"
   ]
  },
  {
   "cell_type": "markdown",
   "metadata": {},
   "source": [
    "### Load Network"
   ]
  },
  {
   "cell_type": "code",
   "execution_count": 16,
   "metadata": {},
   "outputs": [
    {
     "name": "stdout",
     "output_type": "stream",
     "text": [
      "{'decoder_num_units': [100, 100], 'input2_size': 1, 'tot_epochs': 2000, 'latent_size': 3, 'output_size': 1, 'encoder_num_units': [500, 100], 'input_size': 50, 'load_file': 'stokesNet_2021-02-19', 'name': 'Unnamed'}\n",
      "INFO:tensorflow:Restoring parameters from /home/jrwest/Courses/Winter_2021/CS230/project/nn_physical_concepts_cs230/tf_save/stokesNet_2021-02-19.ckpt\n",
      "Loaded network from file stokesNet_2021-02-19\n"
     ]
    }
   ],
   "source": [
    "filename2Load = 'stokesNet_2021-02-19'\n",
    "net = nn.Network.from_saved(filename2Load)"
   ]
  },
  {
   "cell_type": "markdown",
   "metadata": {},
   "source": [
    "### Plot Stuff"
   ]
  },
  {
   "cell_type": "code",
   "execution_count": 17,
   "metadata": {},
   "outputs": [],
   "source": [
    "# Plot prediction\n",
    "%matplotlib tk\n",
    "Fr = 1.0\n",
    "St = 3.0\n",
    "t_sim = np.linspace(0,1,net.input_size)\n",
    "t_q = 2.0\n",
    "t_predict = np.linspace(0, t_q, 250)\n",
    "plot_stokes_prediction(net, Fr, St, t_sim, t_predict);"
   ]
  },
  {
   "cell_type": "code",
   "execution_count": 22,
   "metadata": {},
   "outputs": [],
   "source": [
    "stokes_representation_plot(net, [-5.0,5.0], [0.1,5.0], t_sim, eval_time=1.5);"
   ]
  },
  {
   "cell_type": "code",
   "execution_count": null,
   "metadata": {},
   "outputs": [],
   "source": []
  }
 ],
 "metadata": {
  "kernelspec": {
   "display_name": "Python 2",
   "language": "python",
   "name": "python2"
  },
  "language_info": {
   "codemirror_mode": {
    "name": "ipython",
    "version": 2
   },
   "file_extension": ".py",
   "mimetype": "text/x-python",
   "name": "python",
   "nbconvert_exporter": "python",
   "pygments_lexer": "ipython2",
   "version": "2.7.18"
  }
 },
 "nbformat": 4,
 "nbformat_minor": 1
}
