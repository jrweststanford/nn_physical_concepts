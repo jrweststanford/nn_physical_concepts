{
 "cells": [
  {
   "cell_type": "markdown",
   "metadata": {},
   "source": [
    "### Imports"
   ]
  },
  {
   "cell_type": "code",
   "execution_count": 2,
   "metadata": {},
   "outputs": [],
   "source": [
    "from scinet import *\n",
    "import scinet.stokes as sto"
   ]
  },
  {
   "cell_type": "markdown",
   "metadata": {},
   "source": [
    "### Input Variables"
   ]
  },
  {
   "cell_type": "code",
   "execution_count": 40,
   "metadata": {},
   "outputs": [],
   "source": [
    "input_size = 5\n",
    "latent_size = 2\n",
    "dev_percent = 10"
   ]
  },
  {
   "cell_type": "markdown",
   "metadata": {},
   "source": [
    "### Data creation and loading"
   ]
  },
  {
   "cell_type": "code",
   "execution_count": 41,
   "metadata": {},
   "outputs": [
    {
     "name": "stdout",
     "output_type": "stream",
     "text": [
      "<type 'tuple'>\n",
      "(3,)\n",
      "(10000, 5)\n",
      "(10000, 2)\n",
      "(5, 2)\n"
     ]
    }
   ],
   "source": [
    "sto.create_data(1, input_size, 10000, 'qubit_example');\n"
   ]
  },
  {
   "cell_type": "code",
   "execution_count": 51,
   "metadata": {},
   "outputs": [
    {
     "name": "stdout",
     "output_type": "stream",
     "text": [
      "[[0.86307883 0.06021075 0.83223685 0.12444604 0.5684471 ]\n",
      " [0.50953749 0.45235705 0.55065025 0.85452016 0.90577533]\n",
      " [0.16182219 0.27224484 0.86899332 0.5424813  0.77503208]\n",
      " ...\n",
      " [0.56163083 0.74753897 0.2103734  0.25692188 0.00305394]\n",
      " [0.84080088 0.46753145 0.40955723 0.60780168 0.64120292]\n",
      " [0.05152733 0.79930146 0.34996931 0.92338975 0.62283002]]\n"
     ]
    }
   ],
   "source": [
    "td, vd, ts, vs, proj = dl.load(dev_percent, 'qubit_example')\n",
    "print(vd)"
   ]
  },
  {
   "cell_type": "markdown",
   "metadata": {},
   "source": [
    "### Create and train neural network"
   ]
  },
  {
   "cell_type": "code",
   "execution_count": 76,
   "metadata": {},
   "outputs": [],
   "source": [
    "# Create network object\n",
    "net = nn.Network(input_size, latent_size) #(input size, latent size)"
   ]
  },
  {
   "cell_type": "code",
   "execution_count": 77,
   "metadata": {},
   "outputs": [
    {
     "name": "stdout",
     "output_type": "stream",
     "text": [
      "2.168248\n",
      "128.58723\n"
     ]
    }
   ],
   "source": [
    "# Print initial reconstruction loss (depends on initialization)\n",
    "print(net.run(vd, net.recon_loss)) #default\n",
    "print(net.run(vd, net.kl_loss))"
   ]
  },
  {
   "cell_type": "code",
   "execution_count": 78,
   "metadata": {},
   "outputs": [
    {
     "data": {
      "application/vnd.jupyter.widget-view+json": {
       "model_id": "ac2326332c704dc7b8a63cd6ea673236",
       "version_major": 2,
       "version_minor": 0
      },
      "text/plain": [
       "  0%|          | 0/50 [00:00<?, ?it/s]"
      ]
     },
     "metadata": {},
     "output_type": "display_data"
    }
   ],
   "source": [
    "# Train\n",
    "net.train(50, 256, 0.001, td, vd)"
   ]
  },
  {
   "cell_type": "code",
   "execution_count": 79,
   "metadata": {},
   "outputs": [
    {
     "name": "stdout",
     "output_type": "stream",
     "text": [
      "0.051398344\n",
      "6.3236017\n"
     ]
    }
   ],
   "source": [
    "# Check progress. It is recommended to use Tensorboard instead for this.\n",
    "print(net.run(vd, net.recon_loss)) #default\n",
    "print(net.run(vd, net.kl_loss))"
   ]
  },
  {
   "cell_type": "code",
   "execution_count": 80,
   "metadata": {},
   "outputs": [
    {
     "data": {
      "application/vnd.jupyter.widget-view+json": {
       "model_id": "167bf7ed25b6447cae9d7dbc7b5a1812",
       "version_major": 2,
       "version_minor": 0
      },
      "text/plain": [
       "  0%|          | 0/50 [00:00<?, ?it/s]"
      ]
     },
     "metadata": {},
     "output_type": "display_data"
    }
   ],
   "source": [
    "# More training\n",
    "net.train(50, 256, 0.001, td, vd)"
   ]
  },
  {
   "cell_type": "code",
   "execution_count": 81,
   "metadata": {},
   "outputs": [
    {
     "name": "stdout",
     "output_type": "stream",
     "text": [
      "0.051647637\n",
      "6.1766915\n"
     ]
    }
   ],
   "source": [
    "# Check progress. It is recommended to use Tensorboard instead for this.\n",
    "print(net.run(vd, net.recon_loss)) #default\n",
    "print(net.run(vd, net.kl_loss))"
   ]
  },
  {
   "cell_type": "code",
   "execution_count": null,
   "metadata": {},
   "outputs": [],
   "source": []
  }
 ],
 "metadata": {
  "kernelspec": {
   "display_name": "Python 2",
   "language": "python",
   "name": "python2"
  },
  "language_info": {
   "codemirror_mode": {
    "name": "ipython",
    "version": 2
   },
   "file_extension": ".py",
   "mimetype": "text/x-python",
   "name": "python",
   "nbconvert_exporter": "python",
   "pygments_lexer": "ipython2",
   "version": "2.7.18"
  }
 },
 "nbformat": 4,
 "nbformat_minor": 1
}
