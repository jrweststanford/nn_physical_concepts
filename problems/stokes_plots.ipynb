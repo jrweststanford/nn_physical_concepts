{
 "cells": [
  {
   "cell_type": "markdown",
   "metadata": {},
   "source": [
    "### Imports"
   ]
  },
  {
   "cell_type": "code",
   "execution_count": 1,
   "metadata": {},
   "outputs": [],
   "source": [
    "# Scinet modules\n",
    "from scinet import *\n",
    "\n",
    "# My custom modules\n",
    "import scinet.ed_stokes as sto\n",
    "\n",
    "#Other modules\n",
    "import datetime\n",
    "import matplotlib.pyplot as plt\n",
    "from mpl_toolkits.mplot3d import Axes3D\n",
    "from matplotlib import cm\n",
    "import numpy as np\n",
    "\n",
    "%load_ext tensorboard\n",
    "import tensorflow as tf\n",
    "import datetime, os\n"
   ]
  },
  {
   "cell_type": "markdown",
   "metadata": {},
   "source": [
    "### Helper Functions (based on oscillator example)"
   ]
  },
  {
   "cell_type": "code",
   "execution_count": 2,
   "metadata": {},
   "outputs": [],
   "source": [
    "def gen_input_stokes(Fr, St, t_observ, tt_predicted):\n",
    "    in1 = np.array([sto.stokes_eqn(Fr, St, t_observ) for _ in tt_predicted])\n",
    "    in2 = np.reshape(tt_predicted, (-1, 1))\n",
    "    out = in2 #dummy filler\n",
    "    return [in1, in2, out]\n",
    "\n",
    "def stokes_representation_plot_flat(net, Fr_range, St_range, t_observ, step_num=100, eval_time=1.5):\n",
    "    Fr_vec = np.linspace(*Fr_range, num=step_num)\n",
    "    St_vec = np.logspace(*St_range, num=step_num)\n",
    "    \n",
    "    FR, ST = np.meshgrid(Fr_vec, St_vec)\n",
    "    \n",
    "    St2_Fr_vec = (St_vec**2) * Fr_vec\n",
    "    inv_St_vec = np.flip(1.0/St_vec)\n",
    "    \n",
    "    ST2_FR, INV_ST = np.meshgrid(St2_Fr_vec, inv_St_vec)\n",
    "    \n",
    "    eval_time = np.array([eval_time])\n",
    "\n",
    "    maxColor = 0\n",
    "    minColor = 0\n",
    "    \n",
    "    #St - Fr axes\n",
    "    out = np.array([net.run(gen_input_stokes(Fr, St, t_observ, eval_time), net.mu)[0] \n",
    "                    for Fr, St in zip(np.ravel(FR), np.ravel(ST))])\n",
    "    \n",
    "    for i in range(net.latent_size):\n",
    "        tempz = out[:, i]\n",
    "        maxColor = max(np.max(tempz), maxColor)\n",
    "        minColor = min(np.min(tempz), minColor)\n",
    "\n",
    "    for i in range(net.latent_size):\n",
    "        zs = out[:, i]\n",
    "        Z = np.reshape(zs, FR.shape)\n",
    "    \n",
    "        fig = plt.figure(i+100*net.latent_size, figsize=(5, 4))\n",
    "        plt.contourf(FR, ST, Z, 20, cmap=cm.inferno)\n",
    "        plt.clim([minColor,maxColor])\n",
    "        plt.colorbar()        \n",
    "        \n",
    "        plt.xlabel(r'$Fr$',fontsize='x-large')\n",
    "        plt.ylabel(r'$St$',fontsize='x-large')\n",
    "        plt.xscale('log')\n",
    "        plt.yscale('log')\n",
    "        plt.title('Latent activation {}/{}'.format(i + 1,net.latent_size),fontsize='x-large')\n",
    "        \n",
    "        plt.tight_layout()\n",
    "        \n",
    "        #plt.figure()\n",
    "        #plt.contourf(ST**2 * FR, 1/ST, Z, 20, cmap=cm.inferno)\n",
    "        #plt.clim([minColor,maxColor])\n",
    "        #plt.colorbar()\n",
    "        \n",
    "        #plt.xlabel(r'$St^2 Fr$')\n",
    "        #plt.ylabel(r'$1/St$')\n",
    "        #plt.xscale('log')\n",
    "        #plt.yscale('log')\n",
    "        #plt.xlim([np.min(ST2_FR),np.max(ST2_FR)])\n",
    "        #plt.ylim([np.min(INV_ST),np.max(INV_ST)])        \n",
    "        #plt.title('Latent activation {}/{}'.format(i + 1,net.latent_size))\n",
    "        \n",
    "        plt.tight_layout()\n",
    "    \n",
    "\n",
    "def plot_stokes_prediction(net_, Fr_, St_, t_observ, t_predict):    \n",
    "    x_correct = sto.stokes_eqn(Fr, St, t_predict)\n",
    "    x_predict = net_.run(gen_input_stokes(Fr_, St_, t_observ, t_predict), net_.output).ravel()\n",
    "    fig = plt.figure(figsize=(7, 4))\n",
    "    ax = fig.add_subplot(111)\n",
    "    ax.plot(t_predict, x_correct, color=orange_color, label='True time evolution')\n",
    "    ax.plot(t_predict, x_predict, '--', color=blue_color, label='Predicted time evolution')\n",
    "    ax.set_xlabel(r'$t$ [$s$]')\n",
    "    ax.set_ylabel(r'$x$ [$m$]')\n",
    "    handles, labels = ax.get_legend_handles_labels()\n",
    "    lgd=ax.legend(handles, labels,loc='upper left', bbox_to_anchor=(0.6, 1.3), shadow=True, ncol=1)\n",
    "    fig.tight_layout()\n",
    "    return fig\n",
    "\n",
    "def plot_triplet(net_, Fr_, St_, t_o, t_full, t_q):    \n",
    "    x_full = sto.stokes_eqn(Fr_, St_, t_full)\n",
    "    x_o    = sto.stokes_eqn(Fr_, St_, t_o)\n",
    "    x_a    = sto.stokes_eqn(Fr_, St_, t_q)\n",
    "    \n",
    "    fig = plt.figure(figsize=(5, 2.5))\n",
    "    ax = fig.add_subplot(111)\n",
    "    \n",
    "    ax.plot(t_full, x_full, '-', color=orange_color, label='True time evolution')\n",
    "    ax.plot(t_o, x_o, '.', color=blue_color, label='Observations')\n",
    "    ax.plot(t_q, x_a, '*', color=green_color, label='Question-Answer pair', markersize=15)\n",
    "    \n",
    "    #ax.plot(t_predict, x_predict, '--', color=blue_color, label='Predicted time evolution')\n",
    "    ax.set_xlabel(r'$t$')\n",
    "    ax.set_ylabel(r'$x$')\n",
    "    ax.set_title('$Fr=${}, $St=${}'.format(Fr_,St_))\n",
    "    handles, labels = ax.get_legend_handles_labels()\n",
    "    lgd=ax.legend(handles, labels,loc='upper left', bbox_to_anchor=(0.02, 0.55), shadow=True, ncol=1)\n",
    "    fig.tight_layout()\n",
    "    return fig\n",
    "\n",
    "def plot_errors(nets, Fr_range, St_range, t_observ, step_num=100, eval_time=1.5):\n",
    "    \n",
    "    maxColor = 0\n",
    "    minColor = 0\n",
    "    \n",
    "    for ind, net in enumerate(nets):\n",
    "        Fr_vec = np.linspace(*Fr_range, num=step_num)\n",
    "        St_vec = np.logspace(*St_range, num=step_num)\n",
    "\n",
    "        FR, ST = np.meshgrid(Fr_vec, St_vec)\n",
    "        eval_time = np.array([eval_time])\n",
    "\n",
    "        error = np.array([\n",
    "                    np.abs(\n",
    "                    net.run(gen_input_stokes(Fr, St, t_observ, eval_time), net.output) \n",
    "                   -sto.stokes_eqn(Fr, St, t_q)\n",
    "                    )\n",
    "                    for Fr, St in zip(np.ravel(FR), np.ravel(ST))\n",
    "                    ])\n",
    "\n",
    "        Z = np.reshape(error, FR.shape)\n",
    "        \n",
    "        maxColor = max(np.max(error), maxColor)\n",
    "        minColor = min(np.min(error), minColor)\n",
    "\n",
    "        fig = plt.figure(ind,figsize=(5, 4))\n",
    "        plt.pcolor(FR, ST, Z, cmap=cm.inferno)\n",
    "\n",
    "    for ind, net in enumerate(nets):\n",
    "        plt.figure(ind)\n",
    "        plt.colorbar()        \n",
    "        plt.clim([minColor,maxColor])\n",
    "        plt.xlabel(r'$Fr$',fontsize='x-large')\n",
    "        plt.ylabel(r'$St$',fontsize='x-large')\n",
    "        plt.yscale('log')\n",
    "        if net.latent_size == 1:\n",
    "            plt.title('Error, {} latent neuron'.format(net.latent_size),fontsize='x-large')        \n",
    "        else:\n",
    "            plt.title('Error, {} latent neurons'.format(net.latent_size),fontsize='x-large')\n",
    "        \n",
    "        plt.tight_layout()"
   ]
  },
  {
   "cell_type": "code",
   "execution_count": 3,
   "metadata": {
    "scrolled": false
   },
   "outputs": [],
   "source": [
    "blue_color='#000cff'\n",
    "orange_color='#ff7700'\n",
    "green_color='#009c29'"
   ]
  },
  {
   "cell_type": "markdown",
   "metadata": {},
   "source": [
    "### Create Test Data"
   ]
  },
  {
   "cell_type": "code",
   "execution_count": 4,
   "metadata": {},
   "outputs": [],
   "source": [
    "num_examples = 200000\n",
    "dev_percent = 5\n",
    "t_sim = np.linspace(0,1,50)\n",
    "\n",
    "sto.stokes_data(num_examples, t_sample=t_sim, fileName='stokes_example');\n",
    "td, vd, ts, vs, proj = dl.load(dev_percent, 'stokes_example')"
   ]
  },
  {
   "cell_type": "markdown",
   "metadata": {},
   "source": [
    "### Load Networks"
   ]
  },
  {
   "cell_type": "code",
   "execution_count": 10,
   "metadata": {},
   "outputs": [
    {
     "name": "stdout",
     "output_type": "stream",
     "text": [
      "{'decoder_num_units': [100, 100], 'input2_size': 1, 'tot_epochs': 2000, 'latent_size': 1, 'output_size': 1, 'encoder_num_units': [500, 100], 'input_size': 50, 'load_file': 'stokesNet_1latent_2021-03-14', 'name': 'StokesNet'}\n",
      "INFO:tensorflow:Restoring parameters from /home/jrwest/Courses/Winter_2021/CS230/project/nn_physical_concepts_cs230/tf_save/stokesNet_1latent_2021-03-14.ckpt\n",
      "Loaded network from file stokesNet_1latent_2021-03-14\n",
      "{'decoder_num_units': [100, 100], 'input2_size': 1, 'tot_epochs': 2000, 'latent_size': 2, 'output_size': 1, 'encoder_num_units': [500, 100], 'input_size': 50, 'load_file': 'stokesNet_2latent_2021-03-14', 'name': 'StokesNet'}\n",
      "INFO:tensorflow:Restoring parameters from /home/jrwest/Courses/Winter_2021/CS230/project/nn_physical_concepts_cs230/tf_save/stokesNet_2latent_2021-03-14.ckpt\n",
      "Loaded network from file stokesNet_2latent_2021-03-14\n",
      "{'decoder_num_units': [100, 100], 'input2_size': 1, 'tot_epochs': 2000, 'latent_size': 3, 'output_size': 1, 'encoder_num_units': [500, 100], 'input_size': 50, 'load_file': 'stokesNet_3latent_2021-03-13', 'name': 'StokesNet'}\n",
      "INFO:tensorflow:Restoring parameters from /home/jrwest/Courses/Winter_2021/CS230/project/nn_physical_concepts_cs230/tf_save/stokesNet_3latent_2021-03-13.ckpt\n",
      "Loaded network from file stokesNet_3latent_2021-03-13\n",
      "{'decoder_num_units': [100, 100], 'input2_size': 1, 'tot_epochs': 2000, 'latent_size': 4, 'output_size': 1, 'encoder_num_units': [500, 100], 'input_size': 50, 'load_file': 'stokesNet_4latent_2021-03-14', 'name': 'StokesNet'}\n",
      "INFO:tensorflow:Restoring parameters from /home/jrwest/Courses/Winter_2021/CS230/project/nn_physical_concepts_cs230/tf_save/stokesNet_4latent_2021-03-14.ckpt\n",
      "Loaded network from file stokesNet_4latent_2021-03-14\n"
     ]
    }
   ],
   "source": [
    "filename2Load_1latent = 'stokesNet_1latent_2021-03-14'\n",
    "filename2Load_2latent = 'stokesNet_2latent_2021-03-14'\n",
    "filename2Load_3latent = 'stokesNet_3latent_2021-03-13'\n",
    "filename2Load_4latent = 'stokesNet_4latent_2021-03-14'\n",
    "net1 = nn.Network.from_saved(filename2Load_1latent);\n",
    "net2 = nn.Network.from_saved(filename2Load_2latent);\n",
    "net3 = nn.Network.from_saved(filename2Load_3latent);\n",
    "net4 = nn.Network.from_saved(filename2Load_4latent);\n",
    "\n",
    "train_losses1 = np.load(io.tf_save_path + 'stokesNet_1latent_2021-03-14.npy')\n",
    "dev_losses1   = np.load(io.tf_save_path + 'stokesNet_1latent_2021-03-14.npy')\n",
    "train_losses2 = np.load(io.tf_save_path + 'stokesNet_1latent_2021-03-14.npy')\n",
    "dev_losses2   = np.load(io.tf_save_path + 'stokesNet_1latent_2021-03-14.npy')\n",
    "train_losses3 = np.load(io.tf_save_path + 'stokesNet_1latent_2021-03-14.npy')\n",
    "dev_losses3   = np.load(io.tf_save_path + 'stokesNet_1latent_2021-03-14.npy')\n",
    "train_losses4 = np.load(io.tf_save_path + 'stokesNet_1latent_2021-03-14.npy')\n",
    "dev_losses4   = np.load(io.tf_save_path + 'stokesNet_1latent_2021-03-14.npy')"
   ]
  },
  {
   "cell_type": "markdown",
   "metadata": {},
   "source": [
    "### Plot Stuff"
   ]
  },
  {
   "cell_type": "code",
   "execution_count": 22,
   "metadata": {},
   "outputs": [],
   "source": [
    "# Plot losses\n",
    "%matplotlib tk\n",
    "fig = plt.figure(1,figsize=(6, 3))\n",
    "\n",
    "plt.plot(np.array(train_losses2), 'b-')\n",
    "plt.plot(np.array(dev_losses2), 'r-')\n",
    "plt.xlabel('# Epochs',fontsize='large')\n",
    "plt.legend(['training loss','dev loss'],fontsize='large')\n",
    "plt.yscale('log')\n",
    "\n",
    "fig.tight_layout()"
   ]
  },
  {
   "cell_type": "code",
   "execution_count": 80,
   "metadata": {},
   "outputs": [],
   "source": [
    "# Plot example trajectories\n",
    "# show observations, question, and answer\n",
    "%matplotlib tk\n",
    "Fr = 1.0\n",
    "St = 100\n",
    "t_predict = np.linspace(0, 2.0, 250)\n",
    "t_plot = np.linspace(0,1,20)\n",
    "\n",
    "plot_triplet(net1, 1, 90, t_plot, t_predict, 1.8);\n",
    "plot_triplet(net1, 5, 0.3,     t_plot, t_predict, 0.3);"
   ]
  },
  {
   "cell_type": "code",
   "execution_count": 90,
   "metadata": {},
   "outputs": [],
   "source": [
    "# Plot loss as function of latent size\n",
    "%matplotlib tk\n",
    "num_latent = np.array([1,2,3,4])\n",
    "recon_losses = np.array([net1.run(vd, net1.recon_loss), \n",
    "                         net2.run(vd, net2.recon_loss), \n",
    "                         net3.run(vd, net3.recon_loss), \n",
    "                         net4.run(vd, net4.recon_loss)])\n",
    "kl_losses      = np.array([net1.run(vd, net1.kl_loss), \n",
    "                         net2.run(vd, net2.kl_loss),\n",
    "                         net3.run(vd, net3.kl_loss), \n",
    "                         net4.run(vd, net4.kl_loss)])\n",
    "\n",
    "fig = plt.figure(1,figsize=(5, 3))\n",
    "plt.bar(num_latent, recon_losses)\n",
    "plt.xticks(num_latent, num_latent)\n",
    "plt.xlabel('# Latent Neurons',fontsize='x-large')\n",
    "plt.ylabel('Reconstruction Loss',fontsize='x-large')\n",
    "fig.tight_layout()\n",
    "\n",
    "fig = plt.figure(2,figsize=(5, 3))\n",
    "plt.bar(num_latent, kl_losses)\n",
    "plt.xticks(num_latent, num_latent)\n",
    "plt.xlabel('# Latent Neurons',fontsize='x-large')\n",
    "plt.ylabel('KL Loss',fontsize='x-large')\n",
    "fig.tight_layout()"
   ]
  },
  {
   "cell_type": "code",
   "execution_count": 132,
   "metadata": {},
   "outputs": [],
   "source": [
    "# Plot error as fcn of St and Fr for 1 and 2 neuron nets\n",
    "%matplotlib tk\n",
    "step_num = 100    \n",
    "plot_errors([net1, net2], [0.01,5.0], [-2,2], t_sim, eval_time=1.5, step_num=step_num)    "
   ]
  },
  {
   "cell_type": "code",
   "execution_count": 147,
   "metadata": {},
   "outputs": [],
   "source": [
    "# Plot activations for 1, 2, and 3 nets (pcolor)\n",
    "%matplotlib tk\n",
    "stokes_representation_plot_flat(net1, [0.01,5.0], [-2,2], t_sim, eval_time=1.5, step_num=100);\n",
    "stokes_representation_plot_flat(net2, [0.01,5.0], [-2,2], t_sim, eval_time=1.5, step_num=100);\n",
    "stokes_representation_plot_flat(net3, [0.01,5.0], [-2,2], t_sim, eval_time=1.5, step_num=100);"
   ]
  }
 ],
 "metadata": {
  "kernelspec": {
   "display_name": "Python 2",
   "language": "python",
   "name": "python2"
  },
  "language_info": {
   "codemirror_mode": {
    "name": "ipython",
    "version": 2
   },
   "file_extension": ".py",
   "mimetype": "text/x-python",
   "name": "python",
   "nbconvert_exporter": "python",
   "pygments_lexer": "ipython2",
   "version": "2.7.18"
  }
 },
 "nbformat": 4,
 "nbformat_minor": 1
}
