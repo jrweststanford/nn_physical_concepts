{
 "cells": [
  {
   "cell_type": "code",
   "execution_count": 1,
   "metadata": {},
   "outputs": [],
   "source": [
    "# Scinet modules\n",
    "import scinet.ed_copernicus_elliptic as edc\n",
    "from scinet import *\n",
    "\n",
    "# My custom modules\n",
    "import scinet.ed_stokes as sto\n",
    "\n",
    "#Other modules\n",
    "import datetime\n",
    "import matplotlib.pyplot as plt\n",
    "from mpl_toolkits.mplot3d import Axes3D\n",
    "from matplotlib import cm\n",
    "import numpy as np\n",
    "\n",
    "%load_ext tensorboard\n",
    "import tensorflow as tf\n",
    "import datetime, os\n",
    "\n",
    "import tensorflow as tf\n",
    "from tensorflow.keras.callbacks import TensorBoard"
   ]
  },
  {
   "cell_type": "markdown",
   "metadata": {},
   "source": [
    "### Plotting"
   ]
  },
  {
   "cell_type": "code",
   "execution_count": 2,
   "metadata": {},
   "outputs": [],
   "source": [
    "def fix_jumps(theta_M):\n",
    "    \"\"\"\n",
    "    Fixes jumps that arise because theta_M is always between -pi and pi\n",
    "    \"\"\"\n",
    "    while True:\n",
    "        diff = np.abs(theta_M[:, 1:] - theta_M[:, :-1])\n",
    "        jumps = np.array(np.where(diff > 1.)).T\n",
    "        if len(jumps) == 0:\n",
    "            break\n",
    "        fixed_lines = []\n",
    "        for x, y in jumps:\n",
    "            if x in fixed_lines:\n",
    "                continue\n",
    "            else:\n",
    "                fixed_lines.append(x)\n",
    "            theta_M[x, y + 1:] = theta_M[x, y + 1:] - np.sign(theta_M[x, y + 1] - theta_M[x, y]) * 2 * np.pi\n",
    "    return theta_M"
   ]
  },
  {
   "cell_type": "code",
   "execution_count": 3,
   "metadata": {},
   "outputs": [],
   "source": [
    "def copernicus_latent_neurons(net, series_length=50, delta_t=25, steps=50):\n",
    "    layer = net.state_means\n",
    "    T_earth = 365.26   \n",
    "    T_mars = 686.97959\n",
    "    # the variable eps removes a small window from the plot, such that the discontinuity is not shown\n",
    "    eps = 0.1\n",
    "    ss = np.linspace(- T_earth/2 + eps, T_earth/2 - eps, num=steps)\n",
    "    mm = np.linspace(- T_mars/2 + eps, T_mars/2 - eps, num=steps)\n",
    "    S, M = np.meshgrid(ss, mm)\n",
    "    data = edc.copernicus_data(series_length, delta_t=delta_t, t_earth_target=np.ravel(S), t_mars_target=np.ravel(M))[0]\n",
    "    fig = plt.figure(figsize=(6.0, 2.8))\n",
    "    fig.tight_layout()\n",
    "    out = np.array(net.run(data, layer))\n",
    "    for i in range(len(out[0])):\n",
    "        zs = out[:, i]\n",
    "        ax = fig.add_subplot('12{}'.format(i+1), projection='3d')\n",
    "        ax.view_init(20, 60)\n",
    "        Z = np.reshape(zs, S.shape)\n",
    "        surf = ax.plot_surface(S, M, Z, rstride=1, cstride=1, cmap=cm.inferno, linewidth=0)\n",
    "        ax.set_xlabel(r'$M_E$')\n",
    "        ax.set_ylabel(r'$M_M$')\n",
    "        ax.set_zlabel('Latent activation {}'.format(i + 1))\n",
    "        ax.set_xticks([- T_earth/2.+ eps, 0, T_earth/2.- eps])\n",
    "        ax.set_yticks([- T_mars/2.+ eps,0, T_mars/2- eps])\n",
    "        ax.set_xticklabels(['$-\\pi$', r'0', r'$\\pi$'])\n",
    "        ax.set_yticklabels(['$-\\pi$', r'0', r'$\\pi$'])\n",
    "    return fig"
   ]
  },
  {
   "cell_type": "code",
   "execution_count": 4,
   "metadata": {},
   "outputs": [],
   "source": [
    "def get_coordinates(phi, a, ecc):    \n",
    "    r = edc.get_radius(phi,a,ecc)\n",
    "    return r * np.cos(phi), r * np.sin(phi)\n",
    "\n",
    "def plot_orbits(series_length=100, delta_t = 7): \n",
    "    AU = 149597870700       \n",
    "    a_mars = 1.52366231 * AU   \n",
    "    a_earth = 1.00000011 * AU  \n",
    "    ecc_earth = 0.01671022 \n",
    "    ecc_mars = 0.09341233  \n",
    "    phi_series= edc.copernicus_data(series_length, 1, delta_t = delta_t)[1][0]\n",
    "    x_earth = [get_coordinates(phi_series[i][0], a_earth, ecc_earth)[0] for i in range(len(phi_series))]\n",
    "    y_earth = [get_coordinates(phi_series[i][0], a_earth, ecc_earth)[1] for i in range(len(phi_series))]\n",
    "    x_mars = [get_coordinates(phi_series[i][1], a_mars, ecc_mars)[0] for i in range(len(phi_series))]\n",
    "    y_mars = [get_coordinates(phi_series[i][1], a_mars, ecc_mars)[1] for i in range(len(phi_series))]\n",
    "    f, ax = plt.subplots(figsize=(6.0, 6.0))\n",
    "    ax.plot(x_earth,y_earth)\n",
    "    ax.plot(x_mars,y_mars)\n",
    "    ax.set_xlabel(r'$x$ [m]')\n",
    "    ax.set_ylabel(r'$y$ [m]')\n",
    "    \n",
    "def plot_velocity_mars(series_length=100, delta_t=7):\n",
    "    AU = 149597870700       \n",
    "    a_mars = 1.52366231 * AU     \n",
    "    ecc_mars = 0.09341233   \n",
    "    phi_series= edc.copernicus_data(series_length, 1, delta_t = delta_t)[1][0]\n",
    "    phi_mars = [phi_series[i][1] for i in range(len(phi_series)-1)]\n",
    "    dx_mars = [get_coordinates(phi_series[i+1][1], a_mars, ecc_mars)[0] - get_coordinates(phi_series[i][1], a_mars, ecc_mars)[0] for i in range(len(phi_series)-1)]\n",
    "    dy_mars = [get_coordinates(phi_series[i+1][1], a_mars, ecc_mars)[1] - get_coordinates(phi_series[i][1], a_mars, ecc_mars)[1] for i in range(len(phi_series)-1)]\n",
    "    v_mars = [(dx_mars[i] ** 2 + dy_mars[i] ** 2)**(1./2)/(delta_t*24.*3600.) for i in range(len(phi_series)-1)]\n",
    "    f, ax = plt.subplots(figsize=(6.0, 6.0))\n",
    "    ax.plot(phi_mars,v_mars)\n",
    "    ax.set_xlabel(r'true anomaly [rad]')\n",
    "    ax.set_ylabel(r'velocity [m/s]')"
   ]
  },
  {
   "cell_type": "markdown",
   "metadata": {},
   "source": [
    "## Load pre-trained model\n",
    "\n",
    "### Parameters\n",
    "- `latent_size: 2`\n",
    "- `input_size: 1` \n",
    "- `output_size: 2`\n",
    "- other parameters: default values\n",
    "### Data\n",
    "- Training data: 95000 samples with `delta_t: 25`\n",
    "- Validation data: 5000 samples with `delta_t: 25`\n",
    "\n",
    "### Training\n",
    "1. 2000 epochs with `batch_size: 256`, `learning_rate: 1e-3`, `beta: 0.005`, `euler_l2_coeff: 1`, `time_series_length: 20`\n",
    "2. 1000 epochs with `batch_size: 1024`, `learning_rate: 1e-3`, `beta: 0.005`, `euler_l2_coeff: 1`, `time_series_length: 50`\n",
    "3. 250 epochs with `batch_size: 1024`, `learning_rate: 3e-3`, `beta: 0.01`, `euler_l2_coeff: 1`, `time_series_length: 50`\n",
    "4. 750 epochs with `batch_size: 250`, `learning_rate: 3e-3`, `beta: 0.01`, `euler_l2_coeff: 1`, `time_series_length: 50`\n",
    "5. 1000 epochs with `batch_size: 1024`, `learning_rate: .5e-3`, `beta: 0.005`, `euler_l2_coeff: 1`, `time_series_length: 50`"
   ]
  },
  {
   "cell_type": "code",
   "execution_count": 5,
   "metadata": {},
   "outputs": [
    {
     "name": "stdout",
     "output_type": "stream",
     "text": [
      "{'decoder_num_units': [100, 100], 'tot_epochs': 5001, 'latent_size': 2, 'output_size': 2, 'time_series_length': 50, 'encoder_num_units': [100, 100], 'euler_num_units': [], 'input_size': 1, 'load_file': 'copernicus_elliptic', 'name': 'net_copernicus_elliptic_20'}\n",
      "WARNING:tensorflow:From /home/jrwest/Courses/Winter_2021/CS230/project/nn_physical_concepts_cs230/scinet/model.py:176: The name tf.placeholder is deprecated. Please use tf.compat.v1.placeholder instead.\n",
      "\n",
      "WARNING:tensorflow:From /home/jrwest/Courses/Winter_2021/CS230/project/nn_physical_concepts_cs230/scinet/model.py:192: The name tf.variable_scope is deprecated. Please use tf.compat.v1.variable_scope instead.\n",
      "\n",
      "WARNING:tensorflow:From /home/jrwest/Courses/Winter_2021/CS230/project/nn_physical_concepts_cs230/scinet/model.py:196: The name tf.get_variable is deprecated. Please use tf.compat.v1.get_variable instead.\n",
      "\n",
      "WARNING:tensorflow:From /home/jrwest/Courses/Winter_2021/CS230/project/nn_physical_concepts_cs230/scinet/model.py:373: The name tf.summary.histogram is deprecated. Please use tf.compat.v1.summary.histogram instead.\n",
      "\n",
      "WARNING:tensorflow:From /home/jrwest/Courses/Winter_2021/CS230/project/nn_physical_concepts_cs230/scinet/model.py:393: The name tf.log is deprecated. Please use tf.math.log instead.\n",
      "\n",
      "WARNING:tensorflow:From /home/jrwest/Courses/Winter_2021/CS230/project/nn_physical_concepts_cs230/scinet/model.py:165: The name tf.squared_difference is deprecated. Please use tf.math.squared_difference instead.\n",
      "\n",
      "WARNING:tensorflow:From /home/jrwest/Courses/Winter_2021/CS230/project/nn_physical_concepts_cs230/scinet/model.py:297: The name tf.train.AdamOptimizer is deprecated. Please use tf.compat.v1.train.AdamOptimizer instead.\n",
      "\n",
      "WARNING:tensorflow:From /home/jrwest/miniconda3/envs/cs230_project/lib/python2.7/site-packages/tensorflow_core/python/ops/math_grad.py:1375: where (from tensorflow.python.ops.array_ops) is deprecated and will be removed in a future version.\n",
      "Instructions for updating:\n",
      "Use tf.where in 2.0, which has the same broadcast rule as np.where\n",
      "WARNING:tensorflow:From /home/jrwest/Courses/Winter_2021/CS230/project/nn_physical_concepts_cs230/scinet/model.py:310: The name tf.summary.scalar is deprecated. Please use tf.compat.v1.summary.scalar instead.\n",
      "\n",
      "WARNING:tensorflow:From /home/jrwest/Courses/Winter_2021/CS230/project/nn_physical_concepts_cs230/scinet/model.py:316: The name tf.summary.FileWriter is deprecated. Please use tf.compat.v1.summary.FileWriter instead.\n",
      "\n",
      "WARNING:tensorflow:From /home/jrwest/Courses/Winter_2021/CS230/project/nn_physical_concepts_cs230/scinet/model.py:318: The name tf.summary.merge_all is deprecated. Please use tf.compat.v1.summary.merge_all instead.\n",
      "\n",
      "WARNING:tensorflow:From /home/jrwest/Courses/Winter_2021/CS230/project/nn_physical_concepts_cs230/scinet/model.py:53: The name tf.Session is deprecated. Please use tf.compat.v1.Session instead.\n",
      "\n",
      "WARNING:tensorflow:From /home/jrwest/Courses/Winter_2021/CS230/project/nn_physical_concepts_cs230/scinet/model.py:381: The name tf.global_variables is deprecated. Please use tf.compat.v1.global_variables instead.\n",
      "\n",
      "WARNING:tensorflow:From /home/jrwest/Courses/Winter_2021/CS230/project/nn_physical_concepts_cs230/scinet/model.py:382: The name tf.is_variable_initialized is deprecated. Please use tf.compat.v1.is_variable_initialized instead.\n",
      "\n",
      "WARNING:tensorflow:From /home/jrwest/Courses/Winter_2021/CS230/project/nn_physical_concepts_cs230/scinet/model.py:386: The name tf.variables_initializer is deprecated. Please use tf.compat.v1.variables_initializer instead.\n",
      "\n",
      "WARNING:tensorflow:From /home/jrwest/Courses/Winter_2021/CS230/project/nn_physical_concepts_cs230/scinet/model.py:356: The name tf.train.Saver is deprecated. Please use tf.compat.v1.train.Saver instead.\n",
      "\n",
      "INFO:tensorflow:Restoring parameters from /home/jrwest/Courses/Winter_2021/CS230/project/nn_physical_concepts_cs230/tf_save/copernicus_elliptic.ckpt\n",
      "Loaded network from file copernicus_elliptic\n"
     ]
    }
   ],
   "source": [
    "net_pretrained = nn.Network.from_saved('copernicus_elliptic')"
   ]
  },
  {
   "cell_type": "code",
   "execution_count": 9,
   "metadata": {},
   "outputs": [
    {
     "name": "stdout",
     "output_type": "stream",
     "text": [
      "[]\n"
     ]
    }
   ],
   "source": [
    "print(net_pretrained.euler_num_units)"
   ]
  },
  {
   "cell_type": "markdown",
   "metadata": {},
   "source": [
    "## New Network"
   ]
  },
  {
   "cell_type": "code",
   "execution_count": 53,
   "metadata": {},
   "outputs": [],
   "source": [
    "netName = 'CoperNetcus'\n",
    "observation_size = 2\n",
    "latent_size = 2\n",
    "question_size = 0\n",
    "answer_size = 2\n",
    "dev_percent = 5\n",
    "num_examples = 100000\n",
    "time_series_length = 20\n",
    "\n",
    "encoder_layout = [100,100]\n",
    "decoder_layout = [100,100]\n",
    "timestep_layout = []\n",
    "myBeta = 5e-3\n",
    "myL2_coeff = 1.0"
   ]
  },
  {
   "cell_type": "markdown",
   "metadata": {},
   "source": [
    "### Data creation and loading"
   ]
  },
  {
   "cell_type": "code",
   "execution_count": 45,
   "metadata": {},
   "outputs": [],
   "source": [
    "edc.copernicus_data(time_series_length, num_examples, fileName='Copernicus_example');"
   ]
  },
  {
   "cell_type": "code",
   "execution_count": 46,
   "metadata": {},
   "outputs": [],
   "source": [
    "td, vd, ts, vs = dl.load(dev_percent, 'Copernicus_example')"
   ]
  },
  {
   "cell_type": "code",
   "execution_count": 71,
   "metadata": {},
   "outputs": [
    {
     "name": "stdout",
     "output_type": "stream",
     "text": [
      "(5000, 40)\n",
      "(95000, 40)\n"
     ]
    }
   ],
   "source": [
    "print(np.shape(vd))\n",
    "print(np.shape(td))"
   ]
  },
  {
   "cell_type": "markdown",
   "metadata": {},
   "source": [
    "### Create and train neural network"
   ]
  },
  {
   "cell_type": "code",
   "execution_count": 51,
   "metadata": {},
   "outputs": [],
   "source": [
    "# Create network object\n",
    "net = nn.Network(latent_size, observation_size, time_series_length, answer_size,\n",
    "                 encoder_num_units=encoder_layout, decoder_num_units=decoder_layout, euler_num_units=timestep_layout,\n",
    "                 name=netName) "
   ]
  },
  {
   "cell_type": "code",
   "execution_count": 73,
   "metadata": {},
   "outputs": [
    {
     "name": "stdout",
     "output_type": "stream",
     "text": [
      "0.0031878161\n",
      "6.6530795\n",
      "18\n"
     ]
    }
   ],
   "source": [
    "# Print initial reconstruction loss (depends on initialization)\n",
    "print(net.run(vd, net.recon_loss)) #default\n",
    "print(net.run(vd, net.kl_loss))\n",
    "print(net.rnn_depth)\n",
    "\n",
    "#print(net_pretrained.run(vd, net_pretrained.recon_loss)) #default\n",
    "#print(net_pretrained.run(vd, net_pretrained.kl_loss))\n",
    "#print(net_pretrained.rnn_depth)"
   ]
  },
  {
   "cell_type": "code",
   "execution_count": 30,
   "metadata": {},
   "outputs": [
    {
     "name": "stdout",
     "output_type": "stream",
     "text": [
      "The tensorboard extension is already loaded. To reload it, use:\n",
      "  %reload_ext tensorboard\n"
     ]
    },
    {
     "data": {
      "text/html": [
       "\n",
       "      <iframe id=\"tensorboard-frame-2ec283da21fa6515\" width=\"100%\" height=\"800\" frameborder=\"0\">\n",
       "      </iframe>\n",
       "      <script>\n",
       "        (function() {\n",
       "          const frame = document.getElementById(\"tensorboard-frame-2ec283da21fa6515\");\n",
       "          const url = new URL(\"/\", window.location);\n",
       "          url.port = 6006;\n",
       "          frame.src = url;\n",
       "        })();\n",
       "      </script>\n",
       "  "
      ],
      "text/plain": [
       "<IPython.core.display.HTML object>"
      ]
     },
     "metadata": {},
     "output_type": "display_data"
    }
   ],
   "source": [
    "log_path = os.path.join(io.tf_log_path, netName)\n",
    "%load_ext tensorboard\n",
    "%tensorboard --logdir /home/jrwest/Courses/Winter_2021/CS230/project/nn_physical_concepts_cs230/tf_log/StokesNet"
   ]
  },
  {
   "cell_type": "code",
   "execution_count": 56,
   "metadata": {},
   "outputs": [
    {
     "data": {
      "application/vnd.jupyter.widget-view+json": {
       "model_id": "20006d79fa154b16902fc19386f645a1",
       "version_major": 2,
       "version_minor": 0
      },
      "text/plain": [
       "  0%|          | 0/1 [00:00<?, ?it/s]"
      ]
     },
     "metadata": {},
     "output_type": "display_data"
    },
    {
     "name": "stdout",
     "output_type": "stream",
     "text": [
      "0.000975271\n",
      "6.709429\n"
     ]
    },
    {
     "data": {
      "application/vnd.jupyter.widget-view+json": {
       "model_id": "2d597bc8e73f44fb96e91265ea8f2a95",
       "version_major": 2,
       "version_minor": 0
      },
      "text/plain": [
       "  0%|          | 0/1 [00:00<?, ?it/s]"
      ]
     },
     "metadata": {},
     "output_type": "display_data"
    },
    {
     "name": "stdout",
     "output_type": "stream",
     "text": [
      "0.0011996512\n",
      "6.6395516\n"
     ]
    },
    {
     "data": {
      "application/vnd.jupyter.widget-view+json": {
       "model_id": "a8296d221abd4183aba1a2afcffc4295",
       "version_major": 2,
       "version_minor": 0
      },
      "text/plain": [
       "  0%|          | 0/1 [00:00<?, ?it/s]"
      ]
     },
     "metadata": {},
     "output_type": "display_data"
    },
    {
     "name": "stdout",
     "output_type": "stream",
     "text": [
      "0.0041250545\n",
      "6.5788608\n"
     ]
    },
    {
     "data": {
      "application/vnd.jupyter.widget-view+json": {
       "model_id": "ac46a32f968447b7bcd37cbf8baa68fa",
       "version_major": 2,
       "version_minor": 0
      },
      "text/plain": [
       "  0%|          | 0/1 [00:00<?, ?it/s]"
      ]
     },
     "metadata": {},
     "output_type": "display_data"
    },
    {
     "name": "stdout",
     "output_type": "stream",
     "text": [
      "0.0047628605\n",
      "6.7896576\n"
     ]
    },
    {
     "data": {
      "application/vnd.jupyter.widget-view+json": {
       "model_id": "5d9c0b46adb84eea92f993fd6184dafb",
       "version_major": 2,
       "version_minor": 0
      },
      "text/plain": [
       "  0%|          | 0/1 [00:00<?, ?it/s]"
      ]
     },
     "metadata": {},
     "output_type": "display_data"
    },
    {
     "name": "stdout",
     "output_type": "stream",
     "text": [
      "0.0031878161\n",
      "6.6530795\n"
     ]
    }
   ],
   "source": [
    "# Train\n",
    "num_epochs = 400\n",
    "print_frequency = 0.2\n",
    "\n",
    "check_epochs = int(print_frequency * num_epochs)\n",
    "num_loops    = int(num_epochs/check_epochs)\n",
    "\n",
    "for i in range(num_loops):\n",
    "    net.train(check_epochs, 256, 0.001, td, vd, beta_fun=(lambda x: myBeta), euler_l2_coeff=myL2_coeff, test_step=10 )\n",
    "    # Check progress. It is recommended to use Tensorboard instead for this.\n",
    "    print(net.run(vd, net.recon_loss)) #default\n",
    "    print(net.run(vd, net.kl_loss))"
   ]
  },
  {
   "cell_type": "code",
   "execution_count": null,
   "metadata": {},
   "outputs": [],
   "source": []
  },
  {
   "cell_type": "code",
   "execution_count": null,
   "metadata": {},
   "outputs": [],
   "source": []
  },
  {
   "cell_type": "code",
   "execution_count": null,
   "metadata": {},
   "outputs": [],
   "source": []
  },
  {
   "cell_type": "code",
   "execution_count": null,
   "metadata": {},
   "outputs": [],
   "source": []
  },
  {
   "cell_type": "markdown",
   "metadata": {},
   "source": [
    "## Plot elliptical orbits and velocity of Mars"
   ]
  },
  {
   "cell_type": "code",
   "execution_count": 17,
   "metadata": {},
   "outputs": [],
   "source": [
    "%matplotlib tk\n",
    "plot_velocity_mars(series_length=1000, delta_t=.7)"
   ]
  },
  {
   "cell_type": "markdown",
   "metadata": {},
   "source": [
    "## Plot of latent activations"
   ]
  },
  {
   "cell_type": "code",
   "execution_count": 58,
   "metadata": {},
   "outputs": [],
   "source": [
    "# The mean anomalies M_E and M_M of Earth and Mars, respectively.\n",
    "%matplotlib tk\n",
    "fig = copernicus_latent_neurons(net,series_length = 20)"
   ]
  },
  {
   "cell_type": "markdown",
   "metadata": {},
   "source": [
    "### Calculate L2-norm of error"
   ]
  },
  {
   "cell_type": "code",
   "execution_count": 64,
   "metadata": {},
   "outputs": [],
   "source": [
    "data, states = edc.copernicus_data(20, 5000)"
   ]
  },
  {
   "cell_type": "code",
   "execution_count": 65,
   "metadata": {},
   "outputs": [
    {
     "data": {
      "text/plain": [
       "0.05677938"
      ]
     },
     "execution_count": 65,
     "metadata": {},
     "output_type": "execute_result"
    }
   ],
   "source": [
    "np.sqrt(net.run(data, net.recon_loss))"
   ]
  },
  {
   "cell_type": "code",
   "execution_count": 29,
   "metadata": {},
   "outputs": [],
   "source": [
    "example, example_states = edc.copernicus_data(50, 1)\n",
    "out = net.run(example, net.decoded_list)\n",
    "out = np.reshape(out, (len(out),2))\n",
    "plot_orbits(series_length=100, delta_t = 7)"
   ]
  },
  {
   "cell_type": "code",
   "execution_count": null,
   "metadata": {},
   "outputs": [],
   "source": []
  },
  {
   "cell_type": "code",
   "execution_count": 66,
   "metadata": {},
   "outputs": [],
   "source": [
    "#Choose Network Name for saving (if desired)\n",
    "date_str  = str(datetime.datetime.now().date())\n",
    "name_str  = 'CoperNetcus_'\n",
    "filename  = name_str + date_str\n",
    "full_path = io.tf_save_path + filename"
   ]
  },
  {
   "cell_type": "code",
   "execution_count": 67,
   "metadata": {},
   "outputs": [
    {
     "name": "stdout",
     "output_type": "stream",
     "text": [
      "Saved network to file CoperNetcus_2021-03-10\n"
     ]
    }
   ],
   "source": [
    "#Save Network\n",
    "if os.path.isfile(full_path+'.pkl'):\n",
    "    print(\"Filename already exists. Please choose another name.\")\n",
    "else:    \n",
    "    net.save(filename)"
   ]
  },
  {
   "cell_type": "code",
   "execution_count": null,
   "metadata": {},
   "outputs": [],
   "source": []
  }
 ],
 "metadata": {
  "anaconda-cloud": {},
  "kernelspec": {
   "display_name": "Python 2",
   "language": "python",
   "name": "python2"
  },
  "language_info": {
   "codemirror_mode": {
    "name": "ipython",
    "version": 2
   },
   "file_extension": ".py",
   "mimetype": "text/x-python",
   "name": "python",
   "nbconvert_exporter": "python",
   "pygments_lexer": "ipython2",
   "version": "2.7.18"
  }
 },
 "nbformat": 4,
 "nbformat_minor": 2
}
