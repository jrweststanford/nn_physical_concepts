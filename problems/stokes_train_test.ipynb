{
 "cells": [
  {
   "cell_type": "markdown",
   "metadata": {},
   "source": [
    "### Imports"
   ]
  },
  {
   "cell_type": "code",
   "execution_count": 1,
   "metadata": {},
   "outputs": [],
   "source": [
    "# Scinet modules\n",
    "from scinet import *\n",
    "\n",
    "# My custom modules\n",
    "import scinet.ed_stokes as sto\n",
    "\n",
    "#Other modules\n",
    "import datetime\n",
    "import matplotlib.pyplot as plt\n",
    "from mpl_toolkits.mplot3d import Axes3D\n",
    "from matplotlib import cm\n",
    "import numpy as np\n",
    "\n",
    "%load_ext tensorboard\n",
    "import tensorflow as tf\n",
    "import datetime, os\n",
    "\n",
    "import tensorflow as tf\n",
    "from tensorflow.keras.callbacks import TensorBoard"
   ]
  },
  {
   "cell_type": "markdown",
   "metadata": {},
   "source": [
    "### Helper Functions (based on oscillator example)"
   ]
  },
  {
   "cell_type": "code",
   "execution_count": 2,
   "metadata": {},
   "outputs": [],
   "source": [
    "def gen_input_stokes(Fr, St, t_observ, tt_predicted):\n",
    "    in1 = np.array([sto.stokes_eqn(Fr, St, t_observ) for _ in tt_predicted])\n",
    "    in2 = np.reshape(tt_predicted, (-1, 1))\n",
    "    out = in2 #dummy filler\n",
    "    return [in1, in2, out]\n",
    "\n",
    "def stokes_representation_plot(net, Fr_range, St_range, t_observ, step_num=100, eval_time=1.5):\n",
    "    Fr_vec = np.linspace(*Fr_range, num=step_num)\n",
    "    St_vec = np.linspace(*St_range, num=step_num)\n",
    "    \n",
    "    FR, ST = np.meshgrid(Fr_vec, St_vec)\n",
    "    \n",
    "    eval_time = np.array([eval_time])\n",
    "    out = np.array([net.run(gen_input_stokes(Fr, St, t_observ, eval_time), net.mu)[0] for Fr, St in zip(np.ravel(FR), np.ravel(ST))])\n",
    "    \n",
    "    fig = plt.figure(figsize=(net.latent_size*3.9, 2.1))\n",
    "    for i in range(net.latent_size):\n",
    "        zs = out[:, i]\n",
    "        ax = fig.add_subplot('1{}{}'.format(net.latent_size, i + 1), projection='3d')\n",
    "        Z = np.reshape(zs, FR.shape)\n",
    "        surf = ax.plot_surface(FR, ST, Z, rstride=1, cstride=1, cmap=cm.inferno, linewidth=0)\n",
    "        ax.set_xlabel(r'$Fr$')\n",
    "        ax.set_ylabel(r'$St$')\n",
    "        ax.set_zlabel('Latent activation {}'.format(i + 1))\n",
    "        if (i==2):\n",
    "            ax.set_zlim(-1,1) #Fix the scale for the third plot, where the activation is close to zero\n",
    "        ax.set_zticks([-1,-0.5,0,0.5,1])\n",
    "    fig.tight_layout()\n",
    "    return fig\n",
    "\n",
    "def plot_stokes_prediction(net_, Fr_, St_, t_observ, t_predict):    \n",
    "    x_correct = sto.stokes_eqn(Fr, St, t_predict)\n",
    "    x_predict = net.run(gen_input_stokes(Fr_, St_, t_observ, t_predict), net.output).ravel()\n",
    "    fig = plt.figure(figsize=(7, 4))\n",
    "    ax = fig.add_subplot(111)\n",
    "    ax.plot(t_predict, x_correct, color=orange_color, label='True time evolution')\n",
    "    ax.plot(t_predict, x_predict, '--', color=blue_color, label='Predicted time evolution')\n",
    "    ax.set_xlabel(r'$t$ [$s$]')\n",
    "    ax.set_ylabel(r'$x$ [$m$]')\n",
    "    handles, labels = ax.get_legend_handles_labels()\n",
    "    lgd=ax.legend(handles, labels,loc='upper left', bbox_to_anchor=(0.6, 1.3), shadow=True, ncol=1)\n",
    "    fig.tight_layout()\n",
    "    return fig"
   ]
  },
  {
   "cell_type": "code",
   "execution_count": 3,
   "metadata": {},
   "outputs": [],
   "source": [
    "blue_color='#000cff'\n",
    "orange_color='#ff7700'"
   ]
  },
  {
   "cell_type": "markdown",
   "metadata": {},
   "source": [
    "### Input Variables"
   ]
  },
  {
   "cell_type": "code",
   "execution_count": 25,
   "metadata": {},
   "outputs": [],
   "source": [
    "netName = 'StokesNet'\n",
    "observation_size = 50\n",
    "latent_size = 3\n",
    "question_size = 1\n",
    "answer_size = 1\n",
    "dev_percent = 5\n",
    "num_examples = 200000\n",
    "\n",
    "encoder_layout = [500,300,200,100]\n",
    "decoder_layout = [100,100,100]\n",
    "myBeta = 0.1\n",
    "\n",
    "t_sim = np.linspace(0,1,observation_size)\n",
    "t_q = 2.0"
   ]
  },
  {
   "cell_type": "markdown",
   "metadata": {},
   "source": [
    "### Data creation and loading"
   ]
  },
  {
   "cell_type": "code",
   "execution_count": 26,
   "metadata": {},
   "outputs": [],
   "source": [
    "sto.stokes_data(num_examples, t_sample=t_sim, fileName='stokes_example');\n"
   ]
  },
  {
   "cell_type": "code",
   "execution_count": 27,
   "metadata": {},
   "outputs": [],
   "source": [
    "td, vd, ts, vs, proj = dl.load(dev_percent, 'stokes_example')"
   ]
  },
  {
   "cell_type": "markdown",
   "metadata": {},
   "source": [
    "### Create and train neural network"
   ]
  },
  {
   "cell_type": "code",
   "execution_count": 36,
   "metadata": {},
   "outputs": [],
   "source": [
    "# Create network object\n",
    "net = nn.Network(observation_size, latent_size, question_size, answer_size, \n",
    "                 encoder_num_units=encoder_layout, decoder_num_units=decoder_layout,\n",
    "                 name=netName) "
   ]
  },
  {
   "cell_type": "code",
   "execution_count": 37,
   "metadata": {},
   "outputs": [
    {
     "name": "stdout",
     "output_type": "stream",
     "text": [
      "9.450192\n",
      "21.350391\n"
     ]
    }
   ],
   "source": [
    "# Print initial reconstruction loss (depends on initialization)\n",
    "print(net.run(vd, net.recon_loss)) #default\n",
    "print(net.run(vd, net.kl_loss))"
   ]
  },
  {
   "cell_type": "code",
   "execution_count": 38,
   "metadata": {
    "scrolled": true
   },
   "outputs": [
    {
     "name": "stdout",
     "output_type": "stream",
     "text": [
      "The tensorboard extension is already loaded. To reload it, use:\n",
      "  %reload_ext tensorboard\n"
     ]
    },
    {
     "data": {
      "text/html": [
       "\n",
       "      <iframe id=\"tensorboard-frame-214e926aff45f3b2\" width=\"100%\" height=\"800\" frameborder=\"0\">\n",
       "      </iframe>\n",
       "      <script>\n",
       "        (function() {\n",
       "          const frame = document.getElementById(\"tensorboard-frame-214e926aff45f3b2\");\n",
       "          const url = new URL(\"/\", window.location);\n",
       "          url.port = 6006;\n",
       "          frame.src = url;\n",
       "        })();\n",
       "      </script>\n",
       "  "
      ],
      "text/plain": [
       "<IPython.core.display.HTML object>"
      ]
     },
     "metadata": {},
     "output_type": "display_data"
    }
   ],
   "source": [
    "log_path = os.path.join(io.tf_log_path, netName)\n",
    "%load_ext tensorboard\n",
    "%tensorboard --logdir /home/jrwest/Courses/Winter_2021/CS230/project/nn_physical_concepts_cs230/tf_log/StokesNet"
   ]
  },
  {
   "cell_type": "code",
   "execution_count": 39,
   "metadata": {},
   "outputs": [
    {
     "data": {
      "application/vnd.jupyter.widget-view+json": {
       "model_id": "0ab8ac30ac464190b0bb3f385d84d544",
       "version_major": 2,
       "version_minor": 0
      },
      "text/plain": [
       "  0%|          | 0/200 [00:00<?, ?it/s]"
      ]
     },
     "metadata": {},
     "output_type": "display_data"
    },
    {
     "name": "stdout",
     "output_type": "stream",
     "text": [
      "0.0033586281\n",
      "2.1158323\n"
     ]
    },
    {
     "data": {
      "application/vnd.jupyter.widget-view+json": {
       "model_id": "5855dcdb4c5f47c1adea84093f2d11de",
       "version_major": 2,
       "version_minor": 0
      },
      "text/plain": [
       "  0%|          | 0/200 [00:00<?, ?it/s]"
      ]
     },
     "metadata": {},
     "output_type": "display_data"
    },
    {
     "name": "stdout",
     "output_type": "stream",
     "text": [
      "0.003216066\n",
      "2.1219113\n"
     ]
    },
    {
     "data": {
      "application/vnd.jupyter.widget-view+json": {
       "model_id": "e432e30e42fa4ce0a8471322226dca79",
       "version_major": 2,
       "version_minor": 0
      },
      "text/plain": [
       "  0%|          | 0/200 [00:00<?, ?it/s]"
      ]
     },
     "metadata": {},
     "output_type": "display_data"
    },
    {
     "name": "stdout",
     "output_type": "stream",
     "text": [
      "0.0032048833\n",
      "2.1339476\n"
     ]
    },
    {
     "data": {
      "application/vnd.jupyter.widget-view+json": {
       "model_id": "25ad68a8fb5d4164b59546d1b9aad19f",
       "version_major": 2,
       "version_minor": 0
      },
      "text/plain": [
       "  0%|          | 0/200 [00:00<?, ?it/s]"
      ]
     },
     "metadata": {},
     "output_type": "display_data"
    },
    {
     "name": "stdout",
     "output_type": "stream",
     "text": [
      "0.0030090385\n",
      "2.1279507\n"
     ]
    },
    {
     "data": {
      "application/vnd.jupyter.widget-view+json": {
       "model_id": "d4fc0878094c4ef8b205bdb25f8494a8",
       "version_major": 2,
       "version_minor": 0
      },
      "text/plain": [
       "  0%|          | 0/200 [00:00<?, ?it/s]"
      ]
     },
     "metadata": {},
     "output_type": "display_data"
    },
    {
     "name": "stdout",
     "output_type": "stream",
     "text": [
      "0.0031415198\n",
      "2.100118\n"
     ]
    },
    {
     "data": {
      "application/vnd.jupyter.widget-view+json": {
       "model_id": "f053f57156644f64991e6e110a626cfd",
       "version_major": 2,
       "version_minor": 0
      },
      "text/plain": [
       "  0%|          | 0/200 [00:00<?, ?it/s]"
      ]
     },
     "metadata": {},
     "output_type": "display_data"
    },
    {
     "name": "stdout",
     "output_type": "stream",
     "text": [
      "0.0044545624\n",
      "2.083059\n"
     ]
    },
    {
     "data": {
      "application/vnd.jupyter.widget-view+json": {
       "model_id": "0eb21f51ca4e427b94205215515e7f14",
       "version_major": 2,
       "version_minor": 0
      },
      "text/plain": [
       "  0%|          | 0/200 [00:00<?, ?it/s]"
      ]
     },
     "metadata": {},
     "output_type": "display_data"
    },
    {
     "name": "stdout",
     "output_type": "stream",
     "text": [
      "0.0026724534\n",
      "2.111218\n"
     ]
    },
    {
     "data": {
      "application/vnd.jupyter.widget-view+json": {
       "model_id": "ff71c1949c40445eb2f11a7adfd8dc4d",
       "version_major": 2,
       "version_minor": 0
      },
      "text/plain": [
       "  0%|          | 0/200 [00:00<?, ?it/s]"
      ]
     },
     "metadata": {},
     "output_type": "display_data"
    },
    {
     "name": "stdout",
     "output_type": "stream",
     "text": [
      "0.0036692708\n",
      "2.1261172\n"
     ]
    },
    {
     "data": {
      "application/vnd.jupyter.widget-view+json": {
       "model_id": "36acd48968a747b091a9fa61b4c50518",
       "version_major": 2,
       "version_minor": 0
      },
      "text/plain": [
       "  0%|          | 0/200 [00:00<?, ?it/s]"
      ]
     },
     "metadata": {},
     "output_type": "display_data"
    },
    {
     "name": "stdout",
     "output_type": "stream",
     "text": [
      "0.0031985925\n",
      "2.1118858\n"
     ]
    },
    {
     "data": {
      "application/vnd.jupyter.widget-view+json": {
       "model_id": "cacc1c4adee14b72943c5eff750bd0b8",
       "version_major": 2,
       "version_minor": 0
      },
      "text/plain": [
       "  0%|          | 0/200 [00:00<?, ?it/s]"
      ]
     },
     "metadata": {},
     "output_type": "display_data"
    },
    {
     "name": "stdout",
     "output_type": "stream",
     "text": [
      "0.002476485\n",
      "2.1049829\n"
     ]
    }
   ],
   "source": [
    "# Train\n",
    "num_epochs = 2000\n",
    "print_frequency = 0.1\n",
    "\n",
    "check_epochs = int(print_frequency * num_epochs)\n",
    "num_loops = int(num_epochs/check_epochs)\n",
    "\n",
    "for i in range(num_loops):\n",
    "    net.train(check_epochs, 512, 0.0001, td, vd, beta_fun=(lambda x: myBeta), test_step=10 )\n",
    "    # Check progress. It is recommended to use Tensorboard instead for this.\n",
    "    print(net.run(vd, net.recon_loss)) #default\n",
    "    print(net.run(vd, net.kl_loss))"
   ]
  },
  {
   "cell_type": "code",
   "execution_count": 40,
   "metadata": {},
   "outputs": [
    {
     "name": "stdout",
     "output_type": "stream",
     "text": [
      "0.002476485\n",
      "2.1049829\n"
     ]
    }
   ],
   "source": [
    "# Check progress. It is recommended to use Tensorboard instead for this.\n",
    "print(net.run(vd, net.recon_loss)) #default\n",
    "print(net.run(vd, net.kl_loss))"
   ]
  },
  {
   "cell_type": "code",
   "execution_count": 41,
   "metadata": {},
   "outputs": [],
   "source": [
    "# Plot prediction\n",
    "%matplotlib tk\n",
    "Fr = 1.0\n",
    "St = 3.0\n",
    "t_predict = np.linspace(0, t_q, 250)\n",
    "plot_stokes_prediction(net, Fr, St, t_sim, t_predict);"
   ]
  },
  {
   "cell_type": "code",
   "execution_count": 42,
   "metadata": {},
   "outputs": [],
   "source": [
    "stokes_representation_plot(net, [-5.0,5.0], [0.1,5.0], t_sim, eval_time=1.5);"
   ]
  },
  {
   "cell_type": "code",
   "execution_count": null,
   "metadata": {},
   "outputs": [],
   "source": []
  },
  {
   "cell_type": "code",
   "execution_count": null,
   "metadata": {},
   "outputs": [],
   "source": [
    "#Choose Network Name for saving (if desired)\n",
    "date_str  = str(datetime.datetime.now().date())\n",
    "name_str  = 'stokesNet_'\n",
    "filename  = name_str + date_str\n",
    "full_path = io.tf_save_path + filename"
   ]
  },
  {
   "cell_type": "code",
   "execution_count": null,
   "metadata": {},
   "outputs": [],
   "source": [
    "#Save Network\n",
    "if os.path.isfile(full_path+'.pkl'):\n",
    "    print(\"Filename already exists. Please choose another name.\")\n",
    "else:    \n",
    "    net.save(filename)"
   ]
  },
  {
   "cell_type": "code",
   "execution_count": null,
   "metadata": {},
   "outputs": [],
   "source": []
  }
 ],
 "metadata": {
  "kernelspec": {
   "display_name": "Python 2",
   "language": "python",
   "name": "python2"
  },
  "language_info": {
   "codemirror_mode": {
    "name": "ipython",
    "version": 2
   },
   "file_extension": ".py",
   "mimetype": "text/x-python",
   "name": "python",
   "nbconvert_exporter": "python",
   "pygments_lexer": "ipython2",
   "version": "2.7.18"
  }
 },
 "nbformat": 4,
 "nbformat_minor": 1
}
